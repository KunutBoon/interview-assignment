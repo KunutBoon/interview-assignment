{
 "cells": [
  {
   "cell_type": "markdown",
   "metadata": {},
   "source": [
    "# Problem: Home Credit Default Risk"
   ]
  },
  {
   "cell_type": "markdown",
   "metadata": {},
   "source": [
    "description: (if any)\n",
    "\n",
    "summary: (if any)\n",
    "\n",
    "Table of Content:\n",
    " - a\n",
    " - b"
   ]
  },
  {
   "cell_type": "markdown",
   "metadata": {},
   "source": [
    "# Import Library"
   ]
  },
  {
   "cell_type": "code",
   "execution_count": 141,
   "metadata": {},
   "outputs": [],
   "source": [
    "import os\n",
    "import re\n",
    "from typing import Dict, List, Union, Tuple\n",
    "from functools import reduce\n",
    "\n",
    "import numpy as np\n",
    "import pandas as pd\n",
    "import matplotlib.pyplot as plt"
   ]
  },
  {
   "cell_type": "code",
   "execution_count": 2,
   "metadata": {},
   "outputs": [],
   "source": [
    "# project root path\n",
    "dir_project_root = os.path.dirname(os.getcwd())\n",
    "\n",
    "# project sub directory\n",
    "dir_raw_data = os.path.join(dir_project_root, 'data')\n",
    "\n",
    "# path to data\n",
    "path_application_train = os.path.join(dir_raw_data, 'application_train.csv')\n",
    "path_application_test = os.path.join(dir_raw_data, 'application_test.csv')\n",
    "\n",
    "path_bereau = os.path.join(dir_raw_data, 'bureau.csv')\n",
    "path_bereau_balance = os.path.join(dir_raw_data, 'bureau_balance.csv')\n",
    "\n",
    "path_previous_application = os.path.join(dir_raw_data, 'previous_application.csv')\n",
    "path_pos_cash_balance = os.path.join(dir_raw_data, 'POS_CASH_balance.csv')\n",
    "path_installment_payments = os.path.join(dir_raw_data, 'installments_payments.csv')\n",
    "path_credit_card_balance = os.path.join(dir_raw_data, 'credit_card_balance.csv')"
   ]
  },
  {
   "cell_type": "markdown",
   "metadata": {},
   "source": [
    "# Import Data"
   ]
  },
  {
   "cell_type": "code",
   "execution_count": 35,
   "metadata": {},
   "outputs": [],
   "source": [
    "# application train-test data\n",
    "df_application_train = pd.read_csv(path_application_train)\n",
    "df_application_test = pd.read_csv(path_application_test)\n",
    "\n",
    "# bereau data\n",
    "df_bereau = pd.read_csv(path_bereau)\n",
    "df_bereau_balance = pd.read_csv(path_bereau_balance)\n",
    "\n",
    "# previous application data\n",
    "df_previous_application = pd.read_csv(path_previous_application)\n",
    "df_pos_cash_balance = pd.read_csv(path_pos_cash_balance)\n",
    "df_installment_payments = pd.read_csv(path_installment_payments)\n",
    "df_credit_card_balance = pd.read_csv(path_credit_card_balance)"
   ]
  },
  {
   "cell_type": "markdown",
   "metadata": {},
   "source": [
    "# PART I - Exploratory Data Analysis"
   ]
  },
  {
   "cell_type": "code",
   "execution_count": 4,
   "metadata": {},
   "outputs": [],
   "source": [
    "col_name_target = 'TARGET'\n",
    "col_name_id = 'SK_ID_CURR'\n",
    "\n",
    "list_col_pat_external = [r'EXT_SOURCE_(1|2|3)', r'APARTMENTS_(AVG|MODE|MEDI)', r'BASEMENTAREA_(AVG|MODE|MEDI)', r'YEARS_BEGINEXPLUATATION_', \n",
    "                         r'YEARS_BUILD_(AVG|MODE|MEDI)', r'COMMONAREA_(AVG|MODE|MEDI)', r'ELEVATORS_(AVG|MODE|MEDI)', r'ENTRANCES_(AVG|MODE|MEDI)', \n",
    "                         r'FLOORSMAX_(AVG|MODE|MEDI)', r'FLOORSMIN_(AVG|MODE|MEDI)', r'LANDAREA_(AVG|MODE|MEDI)', r'LIVINGAPARTMENTS_(AVG|MODE|MEDI)',\n",
    "                         r'LIVINGAREA_(AVG|MODE|MEDI)', r'NONLIVINGAPARTMENTS_(AVG|MODE|MEDI)', r'NONLIVINGAREA_(AVG|MODE|MEDI)', 'TOTALAREA_MODE']\n",
    "\n",
    "list_col_name_not_include = [col_name_target, col_name_id]\n",
    "list_col_name_obj = df_application_train.select_dtypes(include='object').drop(columns=list_col_name_not_include, errors='ignore').columns.tolist()\n",
    "list_col_name_nominal_from_description = [\n",
    "    'FLAG_MOBIL', 'FLAG_EMP_PHONE', 'FLAG_WORK_PHONE', 'FLAG_CONT_MOBILE', 'FLAG_PHONE', 'FLAG_EMAIL',\n",
    "    'REGION_RATING_CLIENT', 'REGION_RATING_CLIENT_W_CITY', 'REG_REGION_NOT_LIVE_REGION', 'REG_REGION_NOT_WORK_REGION',\n",
    "    'LIVE_REGION_NOT_WORK_REGION', 'REG_CITY_NOT_LIVE_CITY', 'REG_CITY_NOT_WORK_CITY', 'LIVE_CITY_NOT_WORK_CITY',\n",
    "    'FLAG_DOCUMENT_2', 'FLAG_DOCUMENT_3', 'FLAG_DOCUMENT_4', 'FLAG_DOCUMENT_5', 'FLAG_DOCUMENT_6', 'FLAG_DOCUMENT_7',\n",
    "    'FLAG_DOCUMENT_8', 'FLAG_DOCUMENT_9', 'FLAG_DOCUMENT_10', 'FLAG_DOCUMENT_11', 'FLAG_DOCUMENT_12', 'FLAG_DOCUMENT_13',\n",
    "    'FLAG_DOCUMENT_14', 'FLAG_DOCUMENT_15', 'FLAG_DOCUMENT_16', 'FLAG_DOCUMENT_17', 'FLAG_DOCUMENT_18', 'FLAG_DOCUMENT_19', \n",
    "    'FLAG_DOCUMENT_20', 'FLAG_DOCUMENT_21'\n",
    "]\n",
    "\n",
    "list_col_name_nominal = [*list_col_name_obj, *list_col_name_nominal_from_description]\n",
    "list_col_name_numeric = [col for col in df_application_train.columns if col not in [*list_col_name_not_include, *list_col_name_nominal]]"
   ]
  },
  {
   "cell_type": "code",
   "execution_count": 10,
   "metadata": {},
   "outputs": [],
   "source": [
    "def explore_nominal_column(df, col_name, list_col_name_nominal=list_col_name_nominal):\n",
    "    if col_name not in list_col_name_nominal:\n",
    "        raise ValueError('Invalid nominal column name')\n",
    "    \n",
    "    fig, ax = plt.subplots(1, 1, figsize=(3, 3))\n",
    "    \n",
    "    n_nan = df[col_name].isnull().sum()\n",
    "    n_unique_values = df[col_name].nunique()\n",
    "    list_unique_values = df[col_name].unique().tolist()\n",
    "    arr_value_counts = df[col_name].value_counts()\n",
    "\n",
    "    print('Column name: {}'.format(col_name))\n",
    "    print('Number of NaN values: {}'.format(n_nan))\n",
    "    print('Number of n unique class: {}'.format(n_unique_values))\n",
    "    print('List of unique values: {}'.format(list_unique_values))\n",
    "    print('Unique values count:')\n",
    "    arr_value_counts.plot(kind='barh', ax=ax)\n",
    "    ax.invert_yaxis()\n",
    "    plt.show()\n",
    "    fig.clf()\n",
    "\n",
    "def explore_numeric_column(df, col_name, list_col_name_numeric):\n",
    "    if col_name not in list_col_name_numeric:\n",
    "        raise ValueError('Invalid numeric column name')\n",
    "    \n",
    "    fig, axs = plt.subplots(1, 2, figsize=(6, 3))\n",
    "\n",
    "    n_nan = df[col_name].isnull().sum()\n",
    "    statistic_col = df[col_name].describe()\n",
    "\n",
    "    mean_value = statistic_col.loc['mean']\n",
    "    std_value = statistic_col.loc['std']\n",
    "    min_value = statistic_col.loc['min']\n",
    "    q1_value = statistic_col.loc['25%']\n",
    "    q2_value = statistic_col.loc['50%']\n",
    "    q3_value = statistic_col.loc['75%']\n",
    "    max_value = statistic_col.loc['max']\n",
    "\n",
    "    print('Column name: {}'.format(col_name))\n",
    "    print('Number of NaN values: {}'.format(n_nan))\n",
    "    print('Statistics:')\n",
    "    print('  - Mean: {}'.format(mean_value))\n",
    "    print('  - Standard Deviasion: {}'.format(std_value))\n",
    "    print('  - Minimum: {}'.format(min_value))\n",
    "    print('  - Q1: {}'.format(q1_value))\n",
    "    print('  - Median: {}'.format(q2_value))\n",
    "    print('  - Q3: {}'.format(q3_value))\n",
    "    print('  - Max: {}'.format(max_value))\n",
    "    print('Distribution:')\n",
    "    df[col_name].hist(bins=30, ax=axs[0])\n",
    "    df.boxplot(column=col_name, ax=axs[1])\n",
    "    plt.show()\n",
    "    fig.clf()\n",
    "\n",
    "def explore_initial_data(df):\n",
    "    n_row, n_col = df.shape\n",
    "    arr_count_nan = df.isnull().sum()\n",
    "    n_col_nan = len(arr_count_nan[arr_count_nan > 0])\n",
    "    list_col_types = df.dtypes.unique()\n",
    "\n",
    "    print(\"Number of rows: {}\".format(n_row))\n",
    "    print(\"Number of columns: {}\".format(n_col))\n",
    "    print(\"Number of NaN columns: {}\".format(n_col_nan))\n",
    "    print(\"Col dtypes: {}\".format(list_col_types))\n",
    "\n",
    "def check_data_completeness_id(df_ref, df_check, col_name_ref, col_name_id):\n",
    "    df_check_filter = df_check.loc[:, [col_name_id, col_name_ref]]\n",
    "    df_ref_filter = df_ref.loc[:, [col_name_id]]\n",
    "\n",
    "    df_check_nondup = df_check_filter.drop_duplicates(subset=col_name_id)\n",
    "    df_for_count = df_ref_filter.merge(df_check_nondup, left_on=col_name_id, right_on=col_name_id, how='left')\n",
    "    \n",
    "    n_missins_records = df_for_count[col_name_ref].isna().sum()\n",
    "    \n",
    "    print(\"Number of missing records when join: {}\".format(n_missins_records))"
   ]
  },
  {
   "cell_type": "markdown",
   "metadata": {},
   "source": [
    "### Data exploration in Application data"
   ]
  },
  {
   "cell_type": "markdown",
   "metadata": {},
   "source": [
    "#### <u>Initial inspection on dataset</u>"
   ]
  },
  {
   "cell_type": "code",
   "execution_count": 31,
   "metadata": {},
   "outputs": [
    {
     "data": {
      "text/html": [
       "<div>\n",
       "<style scoped>\n",
       "    .dataframe tbody tr th:only-of-type {\n",
       "        vertical-align: middle;\n",
       "    }\n",
       "\n",
       "    .dataframe tbody tr th {\n",
       "        vertical-align: top;\n",
       "    }\n",
       "\n",
       "    .dataframe thead th {\n",
       "        text-align: right;\n",
       "    }\n",
       "</style>\n",
       "<table border=\"1\" class=\"dataframe\">\n",
       "  <thead>\n",
       "    <tr style=\"text-align: right;\">\n",
       "      <th></th>\n",
       "      <th>SK_ID_CURR</th>\n",
       "      <th>TARGET</th>\n",
       "      <th>NAME_CONTRACT_TYPE</th>\n",
       "      <th>CODE_GENDER</th>\n",
       "      <th>FLAG_OWN_CAR</th>\n",
       "      <th>FLAG_OWN_REALTY</th>\n",
       "      <th>CNT_CHILDREN</th>\n",
       "      <th>AMT_INCOME_TOTAL</th>\n",
       "      <th>AMT_CREDIT</th>\n",
       "      <th>AMT_ANNUITY</th>\n",
       "      <th>...</th>\n",
       "      <th>FLAG_DOCUMENT_18</th>\n",
       "      <th>FLAG_DOCUMENT_19</th>\n",
       "      <th>FLAG_DOCUMENT_20</th>\n",
       "      <th>FLAG_DOCUMENT_21</th>\n",
       "      <th>AMT_REQ_CREDIT_BUREAU_HOUR</th>\n",
       "      <th>AMT_REQ_CREDIT_BUREAU_DAY</th>\n",
       "      <th>AMT_REQ_CREDIT_BUREAU_WEEK</th>\n",
       "      <th>AMT_REQ_CREDIT_BUREAU_MON</th>\n",
       "      <th>AMT_REQ_CREDIT_BUREAU_QRT</th>\n",
       "      <th>AMT_REQ_CREDIT_BUREAU_YEAR</th>\n",
       "    </tr>\n",
       "  </thead>\n",
       "  <tbody>\n",
       "    <tr>\n",
       "      <th>0</th>\n",
       "      <td>100002</td>\n",
       "      <td>1</td>\n",
       "      <td>Cash loans</td>\n",
       "      <td>M</td>\n",
       "      <td>N</td>\n",
       "      <td>Y</td>\n",
       "      <td>0</td>\n",
       "      <td>202500.0</td>\n",
       "      <td>406597.5</td>\n",
       "      <td>24700.5</td>\n",
       "      <td>...</td>\n",
       "      <td>0</td>\n",
       "      <td>0</td>\n",
       "      <td>0</td>\n",
       "      <td>0</td>\n",
       "      <td>0.0</td>\n",
       "      <td>0.0</td>\n",
       "      <td>0.0</td>\n",
       "      <td>0.0</td>\n",
       "      <td>0.0</td>\n",
       "      <td>1.0</td>\n",
       "    </tr>\n",
       "    <tr>\n",
       "      <th>1</th>\n",
       "      <td>100003</td>\n",
       "      <td>0</td>\n",
       "      <td>Cash loans</td>\n",
       "      <td>F</td>\n",
       "      <td>N</td>\n",
       "      <td>N</td>\n",
       "      <td>0</td>\n",
       "      <td>270000.0</td>\n",
       "      <td>1293502.5</td>\n",
       "      <td>35698.5</td>\n",
       "      <td>...</td>\n",
       "      <td>0</td>\n",
       "      <td>0</td>\n",
       "      <td>0</td>\n",
       "      <td>0</td>\n",
       "      <td>0.0</td>\n",
       "      <td>0.0</td>\n",
       "      <td>0.0</td>\n",
       "      <td>0.0</td>\n",
       "      <td>0.0</td>\n",
       "      <td>0.0</td>\n",
       "    </tr>\n",
       "    <tr>\n",
       "      <th>2</th>\n",
       "      <td>100004</td>\n",
       "      <td>0</td>\n",
       "      <td>Revolving loans</td>\n",
       "      <td>M</td>\n",
       "      <td>Y</td>\n",
       "      <td>Y</td>\n",
       "      <td>0</td>\n",
       "      <td>67500.0</td>\n",
       "      <td>135000.0</td>\n",
       "      <td>6750.0</td>\n",
       "      <td>...</td>\n",
       "      <td>0</td>\n",
       "      <td>0</td>\n",
       "      <td>0</td>\n",
       "      <td>0</td>\n",
       "      <td>0.0</td>\n",
       "      <td>0.0</td>\n",
       "      <td>0.0</td>\n",
       "      <td>0.0</td>\n",
       "      <td>0.0</td>\n",
       "      <td>0.0</td>\n",
       "    </tr>\n",
       "  </tbody>\n",
       "</table>\n",
       "<p>3 rows × 122 columns</p>\n",
       "</div>"
      ],
      "text/plain": [
       "   SK_ID_CURR  TARGET NAME_CONTRACT_TYPE CODE_GENDER FLAG_OWN_CAR  \\\n",
       "0      100002       1         Cash loans           M            N   \n",
       "1      100003       0         Cash loans           F            N   \n",
       "2      100004       0    Revolving loans           M            Y   \n",
       "\n",
       "  FLAG_OWN_REALTY  CNT_CHILDREN  AMT_INCOME_TOTAL  AMT_CREDIT  AMT_ANNUITY  \\\n",
       "0               Y             0          202500.0    406597.5      24700.5   \n",
       "1               N             0          270000.0   1293502.5      35698.5   \n",
       "2               Y             0           67500.0    135000.0       6750.0   \n",
       "\n",
       "   ...  FLAG_DOCUMENT_18 FLAG_DOCUMENT_19 FLAG_DOCUMENT_20 FLAG_DOCUMENT_21  \\\n",
       "0  ...                 0                0                0                0   \n",
       "1  ...                 0                0                0                0   \n",
       "2  ...                 0                0                0                0   \n",
       "\n",
       "  AMT_REQ_CREDIT_BUREAU_HOUR AMT_REQ_CREDIT_BUREAU_DAY  \\\n",
       "0                        0.0                       0.0   \n",
       "1                        0.0                       0.0   \n",
       "2                        0.0                       0.0   \n",
       "\n",
       "   AMT_REQ_CREDIT_BUREAU_WEEK  AMT_REQ_CREDIT_BUREAU_MON  \\\n",
       "0                         0.0                        0.0   \n",
       "1                         0.0                        0.0   \n",
       "2                         0.0                        0.0   \n",
       "\n",
       "   AMT_REQ_CREDIT_BUREAU_QRT  AMT_REQ_CREDIT_BUREAU_YEAR  \n",
       "0                        0.0                         1.0  \n",
       "1                        0.0                         0.0  \n",
       "2                        0.0                         0.0  \n",
       "\n",
       "[3 rows x 122 columns]"
      ]
     },
     "execution_count": 31,
     "metadata": {},
     "output_type": "execute_result"
    }
   ],
   "source": [
    "df_application_train.head(3)"
   ]
  },
  {
   "cell_type": "code",
   "execution_count": 80,
   "metadata": {},
   "outputs": [
    {
     "name": "stdout",
     "output_type": "stream",
     "text": [
      "Number of rows: 307511\n",
      "Number of columns: 122\n",
      "Number of NaN columns: 67\n",
      "Col dtypes: [dtype('int64') dtype('O') dtype('float64')]\n"
     ]
    }
   ],
   "source": [
    "explore_initial_data(df_application_train)"
   ]
  },
  {
   "cell_type": "code",
   "execution_count": 87,
   "metadata": {},
   "outputs": [
    {
     "name": "stdout",
     "output_type": "stream",
     "text": [
      "Number of rows in dataset: 307511\n",
      "Number of unique id in the dataset: 307511\n"
     ]
    }
   ],
   "source": [
    "n_unique_id = len(df_application_train[col_name_id].unique())\n",
    "n_row = df_application_train.shape[0]\n",
    "\n",
    "print(\"Number of rows in dataset: {}\".format(n_row))\n",
    "print(\"Number of unique id in the dataset: {}\".format(n_unique_id))"
   ]
  },
  {
   "cell_type": "markdown",
   "metadata": {},
   "source": [
    "#### <u>Target column exploration</u>"
   ]
  },
  {
   "cell_type": "markdown",
   "metadata": {},
   "source": [
    "##### <b>Insight 1:</b>\n",
    "\n",
    "We have imbalanced data (proportion for each class in target variable is not the same)"
   ]
  },
  {
   "cell_type": "code",
   "execution_count": 25,
   "metadata": {},
   "outputs": [
    {
     "data": {
      "text/plain": [
       "TARGET\n",
       "0    282686\n",
       "1     24825\n",
       "Name: count, dtype: int64"
      ]
     },
     "execution_count": 25,
     "metadata": {},
     "output_type": "execute_result"
    }
   ],
   "source": [
    "df_application_train[col_name_target].value_counts()"
   ]
  },
  {
   "cell_type": "markdown",
   "metadata": {},
   "source": [
    "#### <u>Nominal column exploration</u>"
   ]
  },
  {
   "cell_type": "markdown",
   "metadata": {},
   "source": [
    "##### <b>Insight 1:</b>\n",
    "\n",
    "Some nominal columns contain categories that only have few amount of records\n",
    "\n",
    "<u>Appoach</u>: setting threshold as a percentage of total number of records to remove those low-frequency categories\n",
    "\n",
    "<em>Those columns are including: <code>['CODE_GENDER', 'NAME_TYPE_SUITE', 'NAME_INCOME_TYPE', NAME_EDUCATION_TYPE', 'NAME_FAMILY_STATUS', 'NAME_HOUSING_TYPE', 'OCCUPATION_TYPE', 'ORGANIZATION_TYPE']</code></em>"
   ]
  },
  {
   "cell_type": "code",
   "execution_count": 22,
   "metadata": {},
   "outputs": [
    {
     "name": "stdout",
     "output_type": "stream",
     "text": [
      "Column name: NAME_TYPE_SUITE\n",
      "Number of NaN values: 1292\n",
      "Number of n unique class: 7\n",
      "List of unique values: ['Unaccompanied', 'Family', 'Spouse, partner', 'Children', 'Other_A', nan, 'Other_B', 'Group of people']\n",
      "Unique values count:\n"
     ]
    },
    {
     "data": {
      "image/png": "[encoded data removed]",
      "text/plain": [
       "<Figure size 300x300 with 1 Axes>"
      ]
     },
     "metadata": {},
     "output_type": "display_data"
    }
   ],
   "source": [
    "explore_nominal_column(df_application_train, col_name='NAME_TYPE_SUITE', list_col_name_nominal=list_col_name_nominal)"
   ]
  },
  {
   "cell_type": "markdown",
   "metadata": {},
   "source": [
    "##### <b>Insight 2:</b>\n",
    "\n",
    "Some nominal columns contain categories that could be grouped into theri main category\n",
    "\n",
    "<u>Appoach</u>: grouping some categories into the same group considering definitions and low-frequency threshold\n",
    "\n",
    "<em>Those columns are including: <code>['OCCUPATION_TYPE', 'ORGANIZATION_TYPE']</code></em>"
   ]
  },
  {
   "cell_type": "code",
   "execution_count": 23,
   "metadata": {},
   "outputs": [
    {
     "name": "stdout",
     "output_type": "stream",
     "text": [
      "Column name: OCCUPATION_TYPE\n",
      "Number of NaN values: 96391\n",
      "Number of n unique class: 18\n",
      "List of unique values: ['Laborers', 'Core staff', 'Accountants', 'Managers', nan, 'Drivers', 'Sales staff', 'Cleaning staff', 'Cooking staff', 'Private service staff', 'Medicine staff', 'Security staff', 'High skill tech staff', 'Waiters/barmen staff', 'Low-skill Laborers', 'Realty agents', 'Secretaries', 'IT staff', 'HR staff']\n",
      "Unique values count:\n"
     ]
    },
    {
     "data": {
      "image/png": "[encoded data removed]",
      "text/plain": [
       "<Figure size 300x300 with 1 Axes>"
      ]
     },
     "metadata": {},
     "output_type": "display_data"
    }
   ],
   "source": [
    "explore_nominal_column(df_application_train, col_name='OCCUPATION_TYPE', list_col_name_nominal=list_col_name_nominal)"
   ]
  },
  {
   "cell_type": "markdown",
   "metadata": {},
   "source": [
    "##### <b>Insight 3:</b>\n",
    "\n",
    "Some nominal columns only mainly contains 1 category (with/without NaN)\n",
    "\n",
    "<u>Appoach</u>: remove these columns\n",
    "\n",
    "<em>Those columns are including: <code>['HOUSETYPE_MODE', 'WALLSMATERIAL_MODE', 'FONDKAPREMONT_MODE', 'EMERGENCYSTATE_MODE', 'FLAG_MOBIL', 'FLAG_CONT_MOBILE', 'FLAG_DOCUMENT_2', 'FLAG_DOCUMENT_4', 'FLAG_DOCUMENT_5', 'FLAG_DOCUMENT_7', 'FLAG_DOCUMENT_9', 'FLAG_DOCUMENT_10', 'FLAG_DOCUMENT_11', 'FLAG_DOCUMENT_12', 'FLAG_DOCUMENT_13', 'FLAG_DOCUMENT_14', 'FLAG_DOCUMENT_15', 'FLAG_DOCUMENT_16', 'FLAG_DOCUMENT_17', 'FLAG_DOCUMENT_18', 'FLAG_DOCUMENT_19', \n",
    "    'FLAG_DOCUMENT_20', 'FLAG_DOCUMENT_21']</code></em>"
   ]
  },
  {
   "cell_type": "code",
   "execution_count": 24,
   "metadata": {},
   "outputs": [
    {
     "name": "stdout",
     "output_type": "stream",
     "text": [
      "Column name: HOUSETYPE_MODE\n",
      "Number of NaN values: 154297\n",
      "Number of n unique class: 3\n",
      "List of unique values: ['block of flats', nan, 'terraced house', 'specific housing']\n",
      "Unique values count:\n"
     ]
    },
    {
     "data": {
      "image/png": "[encoded data removed]",
      "text/plain": [
       "<Figure size 300x300 with 1 Axes>"
      ]
     },
     "metadata": {},
     "output_type": "display_data"
    }
   ],
   "source": [
    "explore_nominal_column(df_application_train, col_name='HOUSETYPE_MODE', list_col_name_nominal=list_col_name_nominal)"
   ]
  },
  {
   "cell_type": "markdown",
   "metadata": {},
   "source": [
    "#### <u>Numeric column exploration</u>"
   ]
  },
  {
   "cell_type": "markdown",
   "metadata": {},
   "source": [
    "##### <b>Insight 1:</b>\n",
    "\n",
    "Most of numeric columns which are contain lots of NaN values are <b>\"External\"</b> columns\n",
    "\n",
    "<u>Appoach</u>: \n",
    " - find the way to fill NaN on these columns, e.g., fit model with external data itself to avoid imputing bias\n",
    " - <b>fit the model that could handle NaN</b>\n",
    "\n",
    "<em>Note:\n",
    " - These data are already normalized in [0, 1] scale\n",
    " - These column are highly correlated with those columns aggregated from either same or similar data source</em>"
   ]
  },
  {
   "cell_type": "code",
   "execution_count": 82,
   "metadata": {},
   "outputs": [
    {
     "name": "stdout",
     "output_type": "stream",
     "text": [
      "[NaN threshold = 40.0%]\n",
      "Number of numeric column contains NaN: 45\n",
      "Number of \"External\" numeric column contains NaN: 44 (from total 46)\n"
     ]
    }
   ],
   "source": [
    "null_threshold = 0.4\n",
    "\n",
    "arr_count_nan = df_application_train.loc[:, list_col_name_numeric].isnull().sum()\n",
    "list_col_name_numeric_nan = arr_count_nan[arr_count_nan > df_application_train.shape[0] * null_threshold].index.to_list()\n",
    "\n",
    "n_col_numeric_nan = len(list_col_name_numeric_nan)\n",
    "n_col_numeric_ext = sum(map(lambda y: any(map(lambda x: bool(re.match(x, y)), list_col_pat_external)), list_col_name_numeric))\n",
    "n_col_numeric_ext_nan = sum(map(lambda y: any(map(lambda x: bool(re.match(x, y)), list_col_pat_external)), list_col_name_numeric_nan))\n",
    "\n",
    "print(\"[NaN threshold = {}%]\".format(round(null_threshold * 100, 2)))\n",
    "print(\"Number of numeric column contains NaN: {}\".format(n_col_numeric_nan))\n",
    "print(\"Number of \\\"External\\\" numeric column contains NaN: {} (from total {})\".format(n_col_numeric_ext_nan, n_col_numeric_ext))"
   ]
  },
  {
   "cell_type": "markdown",
   "metadata": {},
   "source": [
    "##### <b>Insight 2:</b>\n",
    "\n",
    "Some numeric columns are not truely continuous\n",
    "\n",
    "<u>Appoach</u>: group values into bucket if using <b>non tree-based</b> model\n",
    "\n",
    " <em>Those columns are including: <code>['CNT_CHILDREN', 'CNT_FAM_MEMBERS', 'FLOORSMAX_MODE', 'FLOORSMIN_MODE', 'AMT_REQ_CREDIT_BUREAU_QRT', 'DEF_60_CNT_SOCIAL_CIRCLE', 'DEF_30_CNT_SOCIAL_CIRCLE']</code></em>"
   ]
  },
  {
   "cell_type": "code",
   "execution_count": 83,
   "metadata": {},
   "outputs": [
    {
     "name": "stdout",
     "output_type": "stream",
     "text": [
      "Column name: CNT_CHILDREN\n",
      "Number of NaN values: 0\n",
      "Statistics:\n",
      "  - Mean: 0.4170517477423572\n",
      "  - Standard Deviasion: 0.7221213844376252\n",
      "  - Minimum: 0.0\n",
      "  - Q1: 0.0\n",
      "  - Median: 0.0\n",
      "  - Q3: 1.0\n",
      "  - Max: 19.0\n",
      "Distribution:\n"
     ]
    },
    {
     "data": {
      "image/png": "[encoded data removed]",
      "text/plain": [
       "<Figure size 600x300 with 2 Axes>"
      ]
     },
     "metadata": {},
     "output_type": "display_data"
    }
   ],
   "source": [
    "explore_numeric_column(df_application_train, col_name='CNT_CHILDREN', list_col_name_numeric=list_col_name_numeric)"
   ]
  },
  {
   "cell_type": "markdown",
   "metadata": {},
   "source": [
    "##### <b>Insight 3:</b>\n",
    "\n",
    "Some numeric columns contains outlier\n",
    "\n",
    "<u>Appoach</u>:\n",
    " - remove outlier in column <code>'AMT_INCOME_TOTAL'</code>\n",
    " - use IQR range to cap outliers in other columns\n",
    "\n",
    " <em>Those columns are including: <code>['AMT_INCOME_TOTAL', 'AMT_CREDIT', 'AMT_ANNUITY', 'AMT_GOODS_PRICE', 'YEARS_BEGINEXPLUATATION_AVG', 'ENTRANCES_AVG', 'YEARS_BUILD_MODE', 'OBS_60_CNT_SOCIAL_CIRCLE', 'OBS_30_CNT_SOCIAL_CIRCLE']</code></em>"
   ]
  },
  {
   "cell_type": "code",
   "execution_count": 105,
   "metadata": {},
   "outputs": [
    {
     "name": "stdout",
     "output_type": "stream",
     "text": [
      "Column name: AMT_INCOME_TOTAL\n",
      "Number of NaN values: 0\n",
      "Statistics:\n",
      "  - Mean: 168797.9192969845\n",
      "  - Standard Deviasion: 237123.14627885626\n",
      "  - Minimum: 25650.0\n",
      "  - Q1: 112500.0\n",
      "  - Median: 147150.0\n",
      "  - Q3: 202500.0\n",
      "  - Max: 117000000.0\n",
      "Distribution:\n"
     ]
    },
    {
     "data": {
      "image/png": "[encoded data removed]",
      "text/plain": [
       "<Figure size 600x300 with 2 Axes>"
      ]
     },
     "metadata": {},
     "output_type": "display_data"
    }
   ],
   "source": [
    "explore_numeric_column(df_application_train, col_name='AMT_INCOME_TOTAL', list_col_name_numeric=list_col_name_numeric)"
   ]
  },
  {
   "cell_type": "markdown",
   "metadata": {},
   "source": [
    "##### <b>Insight 4:</b>\n",
    "\n",
    "Some weird values in <code>DAY_EMPLOYED</code> columns\n",
    "\n",
    "<u>Appoach</u>: Minimum clip on <code>DAY_EMPLOYED</code> column (with 0 values)"
   ]
  },
  {
   "cell_type": "code",
   "execution_count": 109,
   "metadata": {},
   "outputs": [
    {
     "name": "stdout",
     "output_type": "stream",
     "text": [
      "Column name: DAYS_EMPLOYED\n",
      "Number of NaN values: 0\n",
      "Statistics:\n",
      "  - Mean: 63815.04590404896\n",
      "  - Standard Deviasion: 141275.76651872724\n",
      "  - Minimum: -17912.0\n",
      "  - Q1: -2760.0\n",
      "  - Median: -1213.0\n",
      "  - Q3: -289.0\n",
      "  - Max: 365243.0\n",
      "Distribution:\n"
     ]
    },
    {
     "data": {
      "image/png": "[encoded data removed]",
      "text/plain": [
       "<Figure size 600x300 with 2 Axes>"
      ]
     },
     "metadata": {},
     "output_type": "display_data"
    }
   ],
   "source": [
    "explore_numeric_column(df_application_train, col_name='DAYS_EMPLOYED', list_col_name_numeric=list_col_name_numeric)"
   ]
  },
  {
   "cell_type": "markdown",
   "metadata": {},
   "source": [
    "##### <b>Insight 5:</b>\n",
    "\n",
    "Variant scale of data\n",
    "\n",
    "<u>Appoach</u>: Normalize numerical variables to [0, 1] scale"
   ]
  },
  {
   "cell_type": "markdown",
   "metadata": {},
   "source": [
    "##### <b>Insight 6:</b>\n",
    "\n",
    "External numeric columns are highly correlated with those aggregated from either same or similar data source\n",
    "\n",
    "<u>Appoach</u>: Don't forget to remove redundant variables"
   ]
  },
  {
   "cell_type": "markdown",
   "metadata": {},
   "source": [
    "##### <b>Insight 7:</b>\n",
    "\n",
    "Some numeric columns are actually ordinal data\n",
    "\n",
    "<u>Appoach</u>: drop these columns since most data are fall into one category\n",
    "\n",
    " <em>Those columns are including: <code>['AMT_REQ_CREDIT_BUREAU_HOUR', 'AMT_REQ_CREDIT_BUREAU_DAY', 'AMT_REQ_CREDIT_BUREAU_WEEK']</code></em>"
   ]
  },
  {
   "cell_type": "code",
   "execution_count": 118,
   "metadata": {},
   "outputs": [
    {
     "name": "stdout",
     "output_type": "stream",
     "text": [
      "Column name: AMT_REQ_CREDIT_BUREAU_WEEK\n",
      "Number of NaN values: 41519\n",
      "Number of n unique class: 9\n",
      "List of unique values: [0.0, nan, 1.0, 3.0, 2.0, 4.0, 5.0, 6.0, 8.0, 7.0]\n",
      "Unique values count:\n"
     ]
    },
    {
     "data": {
      "image/png": "[encoded data removed]",
      "text/plain": [
       "<Figure size 300x300 with 1 Axes>"
      ]
     },
     "metadata": {},
     "output_type": "display_data"
    }
   ],
   "source": [
    "explore_nominal_column(df_application_train, col_name='AMT_REQ_CREDIT_BUREAU_WEEK', list_col_name_nominal=['AMT_REQ_CREDIT_BUREAU_WEEK'])"
   ]
  },
  {
   "cell_type": "markdown",
   "metadata": {},
   "source": [
    "### Data exploration in Bereau data"
   ]
  },
  {
   "cell_type": "markdown",
   "metadata": {},
   "source": [
    "#### <u>Initial inspection on dataset</u>"
   ]
  },
  {
   "cell_type": "code",
   "execution_count": 82,
   "metadata": {},
   "outputs": [
    {
     "data": {
      "text/html": [
       "<div>\n",
       "<style scoped>\n",
       "    .dataframe tbody tr th:only-of-type {\n",
       "        vertical-align: middle;\n",
       "    }\n",
       "\n",
       "    .dataframe tbody tr th {\n",
       "        vertical-align: top;\n",
       "    }\n",
       "\n",
       "    .dataframe thead th {\n",
       "        text-align: right;\n",
       "    }\n",
       "</style>\n",
       "<table border=\"1\" class=\"dataframe\">\n",
       "  <thead>\n",
       "    <tr style=\"text-align: right;\">\n",
       "      <th></th>\n",
       "      <th>SK_ID_CURR</th>\n",
       "      <th>SK_ID_BUREAU</th>\n",
       "      <th>CREDIT_ACTIVE</th>\n",
       "      <th>CREDIT_CURRENCY</th>\n",
       "      <th>DAYS_CREDIT</th>\n",
       "      <th>CREDIT_DAY_OVERDUE</th>\n",
       "      <th>DAYS_CREDIT_ENDDATE</th>\n",
       "      <th>DAYS_ENDDATE_FACT</th>\n",
       "      <th>AMT_CREDIT_MAX_OVERDUE</th>\n",
       "      <th>CNT_CREDIT_PROLONG</th>\n",
       "      <th>AMT_CREDIT_SUM</th>\n",
       "      <th>AMT_CREDIT_SUM_DEBT</th>\n",
       "      <th>AMT_CREDIT_SUM_LIMIT</th>\n",
       "      <th>AMT_CREDIT_SUM_OVERDUE</th>\n",
       "      <th>CREDIT_TYPE</th>\n",
       "      <th>DAYS_CREDIT_UPDATE</th>\n",
       "      <th>AMT_ANNUITY</th>\n",
       "    </tr>\n",
       "  </thead>\n",
       "  <tbody>\n",
       "    <tr>\n",
       "      <th>0</th>\n",
       "      <td>215354</td>\n",
       "      <td>5714462</td>\n",
       "      <td>Closed</td>\n",
       "      <td>currency 1</td>\n",
       "      <td>-497</td>\n",
       "      <td>0</td>\n",
       "      <td>-153.0</td>\n",
       "      <td>-153.0</td>\n",
       "      <td>NaN</td>\n",
       "      <td>0</td>\n",
       "      <td>91323.0</td>\n",
       "      <td>0.0</td>\n",
       "      <td>NaN</td>\n",
       "      <td>0.0</td>\n",
       "      <td>Consumer credit</td>\n",
       "      <td>-131</td>\n",
       "      <td>NaN</td>\n",
       "    </tr>\n",
       "    <tr>\n",
       "      <th>1</th>\n",
       "      <td>215354</td>\n",
       "      <td>5714463</td>\n",
       "      <td>Active</td>\n",
       "      <td>currency 1</td>\n",
       "      <td>-208</td>\n",
       "      <td>0</td>\n",
       "      <td>1075.0</td>\n",
       "      <td>NaN</td>\n",
       "      <td>NaN</td>\n",
       "      <td>0</td>\n",
       "      <td>225000.0</td>\n",
       "      <td>171342.0</td>\n",
       "      <td>NaN</td>\n",
       "      <td>0.0</td>\n",
       "      <td>Credit card</td>\n",
       "      <td>-20</td>\n",
       "      <td>NaN</td>\n",
       "    </tr>\n",
       "    <tr>\n",
       "      <th>2</th>\n",
       "      <td>215354</td>\n",
       "      <td>5714464</td>\n",
       "      <td>Active</td>\n",
       "      <td>currency 1</td>\n",
       "      <td>-203</td>\n",
       "      <td>0</td>\n",
       "      <td>528.0</td>\n",
       "      <td>NaN</td>\n",
       "      <td>NaN</td>\n",
       "      <td>0</td>\n",
       "      <td>464323.5</td>\n",
       "      <td>NaN</td>\n",
       "      <td>NaN</td>\n",
       "      <td>0.0</td>\n",
       "      <td>Consumer credit</td>\n",
       "      <td>-16</td>\n",
       "      <td>NaN</td>\n",
       "    </tr>\n",
       "  </tbody>\n",
       "</table>\n",
       "</div>"
      ],
      "text/plain": [
       "   SK_ID_CURR  SK_ID_BUREAU CREDIT_ACTIVE CREDIT_CURRENCY  DAYS_CREDIT  \\\n",
       "0      215354       5714462        Closed      currency 1         -497   \n",
       "1      215354       5714463        Active      currency 1         -208   \n",
       "2      215354       5714464        Active      currency 1         -203   \n",
       "\n",
       "   CREDIT_DAY_OVERDUE  DAYS_CREDIT_ENDDATE  DAYS_ENDDATE_FACT  \\\n",
       "0                   0               -153.0             -153.0   \n",
       "1                   0               1075.0                NaN   \n",
       "2                   0                528.0                NaN   \n",
       "\n",
       "   AMT_CREDIT_MAX_OVERDUE  CNT_CREDIT_PROLONG  AMT_CREDIT_SUM  \\\n",
       "0                     NaN                   0         91323.0   \n",
       "1                     NaN                   0        225000.0   \n",
       "2                     NaN                   0        464323.5   \n",
       "\n",
       "   AMT_CREDIT_SUM_DEBT  AMT_CREDIT_SUM_LIMIT  AMT_CREDIT_SUM_OVERDUE  \\\n",
       "0                  0.0                   NaN                     0.0   \n",
       "1             171342.0                   NaN                     0.0   \n",
       "2                  NaN                   NaN                     0.0   \n",
       "\n",
       "       CREDIT_TYPE  DAYS_CREDIT_UPDATE  AMT_ANNUITY  \n",
       "0  Consumer credit                -131          NaN  \n",
       "1      Credit card                 -20          NaN  \n",
       "2  Consumer credit                 -16          NaN  "
      ]
     },
     "execution_count": 82,
     "metadata": {},
     "output_type": "execute_result"
    }
   ],
   "source": [
    "df_bereau.head(3)"
   ]
  },
  {
   "cell_type": "code",
   "execution_count": 117,
   "metadata": {},
   "outputs": [
    {
     "data": {
      "text/html": [
       "<div>\n",
       "<style scoped>\n",
       "    .dataframe tbody tr th:only-of-type {\n",
       "        vertical-align: middle;\n",
       "    }\n",
       "\n",
       "    .dataframe tbody tr th {\n",
       "        vertical-align: top;\n",
       "    }\n",
       "\n",
       "    .dataframe thead th {\n",
       "        text-align: right;\n",
       "    }\n",
       "</style>\n",
       "<table border=\"1\" class=\"dataframe\">\n",
       "  <thead>\n",
       "    <tr style=\"text-align: right;\">\n",
       "      <th></th>\n",
       "      <th>SK_ID_CURR</th>\n",
       "      <th>SK_ID_BUREAU</th>\n",
       "      <th>CREDIT_ACTIVE</th>\n",
       "      <th>CREDIT_CURRENCY</th>\n",
       "      <th>DAYS_CREDIT</th>\n",
       "      <th>CREDIT_DAY_OVERDUE</th>\n",
       "      <th>DAYS_CREDIT_ENDDATE</th>\n",
       "      <th>DAYS_ENDDATE_FACT</th>\n",
       "      <th>AMT_CREDIT_MAX_OVERDUE</th>\n",
       "      <th>CNT_CREDIT_PROLONG</th>\n",
       "      <th>AMT_CREDIT_SUM</th>\n",
       "      <th>AMT_CREDIT_SUM_DEBT</th>\n",
       "      <th>AMT_CREDIT_SUM_LIMIT</th>\n",
       "      <th>AMT_CREDIT_SUM_OVERDUE</th>\n",
       "      <th>CREDIT_TYPE</th>\n",
       "      <th>DAYS_CREDIT_UPDATE</th>\n",
       "      <th>AMT_ANNUITY</th>\n",
       "    </tr>\n",
       "  </thead>\n",
       "  <tbody>\n",
       "    <tr>\n",
       "      <th>7</th>\n",
       "      <td>162297</td>\n",
       "      <td>5714469</td>\n",
       "      <td>Closed</td>\n",
       "      <td>currency 1</td>\n",
       "      <td>-1896</td>\n",
       "      <td>0</td>\n",
       "      <td>-1684.0</td>\n",
       "      <td>-1710.0</td>\n",
       "      <td>14985.0</td>\n",
       "      <td>0</td>\n",
       "      <td>76878.45</td>\n",
       "      <td>0.0</td>\n",
       "      <td>0.0</td>\n",
       "      <td>0.0</td>\n",
       "      <td>Consumer credit</td>\n",
       "      <td>-1710</td>\n",
       "      <td>NaN</td>\n",
       "    </tr>\n",
       "    <tr>\n",
       "      <th>8</th>\n",
       "      <td>162297</td>\n",
       "      <td>5714470</td>\n",
       "      <td>Closed</td>\n",
       "      <td>currency 1</td>\n",
       "      <td>-1146</td>\n",
       "      <td>0</td>\n",
       "      <td>-811.0</td>\n",
       "      <td>-840.0</td>\n",
       "      <td>0.0</td>\n",
       "      <td>0</td>\n",
       "      <td>103007.70</td>\n",
       "      <td>0.0</td>\n",
       "      <td>0.0</td>\n",
       "      <td>0.0</td>\n",
       "      <td>Consumer credit</td>\n",
       "      <td>-840</td>\n",
       "      <td>NaN</td>\n",
       "    </tr>\n",
       "    <tr>\n",
       "      <th>9</th>\n",
       "      <td>162297</td>\n",
       "      <td>5714471</td>\n",
       "      <td>Active</td>\n",
       "      <td>currency 1</td>\n",
       "      <td>-1146</td>\n",
       "      <td>0</td>\n",
       "      <td>-484.0</td>\n",
       "      <td>NaN</td>\n",
       "      <td>0.0</td>\n",
       "      <td>0</td>\n",
       "      <td>4500.00</td>\n",
       "      <td>0.0</td>\n",
       "      <td>0.0</td>\n",
       "      <td>0.0</td>\n",
       "      <td>Credit card</td>\n",
       "      <td>-690</td>\n",
       "      <td>NaN</td>\n",
       "    </tr>\n",
       "    <tr>\n",
       "      <th>10</th>\n",
       "      <td>162297</td>\n",
       "      <td>5714472</td>\n",
       "      <td>Active</td>\n",
       "      <td>currency 1</td>\n",
       "      <td>-1146</td>\n",
       "      <td>0</td>\n",
       "      <td>-180.0</td>\n",
       "      <td>NaN</td>\n",
       "      <td>0.0</td>\n",
       "      <td>0</td>\n",
       "      <td>337500.00</td>\n",
       "      <td>0.0</td>\n",
       "      <td>0.0</td>\n",
       "      <td>0.0</td>\n",
       "      <td>Credit card</td>\n",
       "      <td>-690</td>\n",
       "      <td>NaN</td>\n",
       "    </tr>\n",
       "    <tr>\n",
       "      <th>11</th>\n",
       "      <td>162297</td>\n",
       "      <td>5714473</td>\n",
       "      <td>Closed</td>\n",
       "      <td>currency 1</td>\n",
       "      <td>-2456</td>\n",
       "      <td>0</td>\n",
       "      <td>-629.0</td>\n",
       "      <td>-825.0</td>\n",
       "      <td>NaN</td>\n",
       "      <td>0</td>\n",
       "      <td>675000.00</td>\n",
       "      <td>0.0</td>\n",
       "      <td>0.0</td>\n",
       "      <td>0.0</td>\n",
       "      <td>Consumer credit</td>\n",
       "      <td>-706</td>\n",
       "      <td>NaN</td>\n",
       "    </tr>\n",
       "    <tr>\n",
       "      <th>12</th>\n",
       "      <td>162297</td>\n",
       "      <td>5714474</td>\n",
       "      <td>Active</td>\n",
       "      <td>currency 1</td>\n",
       "      <td>-277</td>\n",
       "      <td>0</td>\n",
       "      <td>5261.0</td>\n",
       "      <td>NaN</td>\n",
       "      <td>0.0</td>\n",
       "      <td>0</td>\n",
       "      <td>7033500.00</td>\n",
       "      <td>NaN</td>\n",
       "      <td>NaN</td>\n",
       "      <td>0.0</td>\n",
       "      <td>Mortgage</td>\n",
       "      <td>-31</td>\n",
       "      <td>NaN</td>\n",
       "    </tr>\n",
       "  </tbody>\n",
       "</table>\n",
       "</div>"
      ],
      "text/plain": [
       "    SK_ID_CURR  SK_ID_BUREAU CREDIT_ACTIVE CREDIT_CURRENCY  DAYS_CREDIT  \\\n",
       "7       162297       5714469        Closed      currency 1        -1896   \n",
       "8       162297       5714470        Closed      currency 1        -1146   \n",
       "9       162297       5714471        Active      currency 1        -1146   \n",
       "10      162297       5714472        Active      currency 1        -1146   \n",
       "11      162297       5714473        Closed      currency 1        -2456   \n",
       "12      162297       5714474        Active      currency 1         -277   \n",
       "\n",
       "    CREDIT_DAY_OVERDUE  DAYS_CREDIT_ENDDATE  DAYS_ENDDATE_FACT  \\\n",
       "7                    0              -1684.0            -1710.0   \n",
       "8                    0               -811.0             -840.0   \n",
       "9                    0               -484.0                NaN   \n",
       "10                   0               -180.0                NaN   \n",
       "11                   0               -629.0             -825.0   \n",
       "12                   0               5261.0                NaN   \n",
       "\n",
       "    AMT_CREDIT_MAX_OVERDUE  CNT_CREDIT_PROLONG  AMT_CREDIT_SUM  \\\n",
       "7                  14985.0                   0        76878.45   \n",
       "8                      0.0                   0       103007.70   \n",
       "9                      0.0                   0         4500.00   \n",
       "10                     0.0                   0       337500.00   \n",
       "11                     NaN                   0       675000.00   \n",
       "12                     0.0                   0      7033500.00   \n",
       "\n",
       "    AMT_CREDIT_SUM_DEBT  AMT_CREDIT_SUM_LIMIT  AMT_CREDIT_SUM_OVERDUE  \\\n",
       "7                   0.0                   0.0                     0.0   \n",
       "8                   0.0                   0.0                     0.0   \n",
       "9                   0.0                   0.0                     0.0   \n",
       "10                  0.0                   0.0                     0.0   \n",
       "11                  0.0                   0.0                     0.0   \n",
       "12                  NaN                   NaN                     0.0   \n",
       "\n",
       "        CREDIT_TYPE  DAYS_CREDIT_UPDATE  AMT_ANNUITY  \n",
       "7   Consumer credit               -1710          NaN  \n",
       "8   Consumer credit                -840          NaN  \n",
       "9       Credit card                -690          NaN  \n",
       "10      Credit card                -690          NaN  \n",
       "11  Consumer credit                -706          NaN  \n",
       "12         Mortgage                 -31          NaN  "
      ]
     },
     "execution_count": 117,
     "metadata": {},
     "output_type": "execute_result"
    }
   ],
   "source": [
    "df_bereau.loc[df_bereau[col_name_id] == 162297]"
   ]
  },
  {
   "cell_type": "code",
   "execution_count": 81,
   "metadata": {},
   "outputs": [
    {
     "name": "stdout",
     "output_type": "stream",
     "text": [
      "Number of rows: 1716428\n",
      "Number of columns: 17\n",
      "Number of NaN columns: 7\n",
      "Col dtypes: [dtype('int64') dtype('O') dtype('float64')]\n"
     ]
    }
   ],
   "source": [
    "explore_initial_data(df_bereau)"
   ]
  },
  {
   "cell_type": "code",
   "execution_count": 14,
   "metadata": {},
   "outputs": [
    {
     "data": {
      "text/plain": [
       "SK_ID_CURR                      0\n",
       "SK_ID_BUREAU                    0\n",
       "CREDIT_ACTIVE                   0\n",
       "CREDIT_CURRENCY                 0\n",
       "DAYS_CREDIT                     0\n",
       "CREDIT_DAY_OVERDUE              0\n",
       "DAYS_CREDIT_ENDDATE        105553\n",
       "DAYS_ENDDATE_FACT          633653\n",
       "AMT_CREDIT_MAX_OVERDUE    1124488\n",
       "CNT_CREDIT_PROLONG              0\n",
       "AMT_CREDIT_SUM                 13\n",
       "AMT_CREDIT_SUM_DEBT        257669\n",
       "AMT_CREDIT_SUM_LIMIT       591780\n",
       "AMT_CREDIT_SUM_OVERDUE          0\n",
       "CREDIT_TYPE                     0\n",
       "DAYS_CREDIT_UPDATE              0\n",
       "AMT_ANNUITY               1226791\n",
       "dtype: int64"
      ]
     },
     "execution_count": 14,
     "metadata": {},
     "output_type": "execute_result"
    }
   ],
   "source": [
    "df_bereau.isnull().sum()"
   ]
  },
  {
   "cell_type": "code",
   "execution_count": 94,
   "metadata": {},
   "outputs": [
    {
     "name": "stdout",
     "output_type": "stream",
     "text": [
      "Number of missing records when join: 44020\n"
     ]
    }
   ],
   "source": [
    "check_data_completeness_id(df_application_train, df_bereau, col_name_ref='SK_ID_BUREAU', col_name_id=col_name_id)"
   ]
  },
  {
   "cell_type": "markdown",
   "metadata": {},
   "source": [
    "#### <u>Nominal column exploration</u>"
   ]
  },
  {
   "cell_type": "markdown",
   "metadata": {},
   "source": [
    "##### <b>Insight 1:</b>\n",
    "\n",
    "Some nominal columns contain categories that only have few amount of records\n",
    "\n",
    "<u>Appoach</u>:\n",
    " - Filter out ('Sold', 'Bad debt') category in <code>'CREDIT_ACTIVE'</code> column\n",
    " - Filter out ('currency 2', 'currency 4', 'currency 3') category in <code>'CREDIT_CURRENCY'</code> column\n",
    " - Cross-reference credit bureau status with Bureau Balance data"
   ]
  },
  {
   "cell_type": "code",
   "execution_count": 101,
   "metadata": {},
   "outputs": [
    {
     "name": "stdout",
     "output_type": "stream",
     "text": [
      "Column name: CREDIT_ACTIVE\n",
      "Number of NaN values: 0\n",
      "Number of n unique class: 4\n",
      "List of unique values: ['Closed', 'Active', 'Sold', 'Bad debt']\n",
      "Unique values count:\n"
     ]
    },
    {
     "data": {
      "image/png": "[encoded data removed]",
      "text/plain": [
       "<Figure size 300x300 with 1 Axes>"
      ]
     },
     "metadata": {},
     "output_type": "display_data"
    },
    {
     "name": "stdout",
     "output_type": "stream",
     "text": [
      "Column name: CREDIT_CURRENCY\n",
      "Number of NaN values: 0\n",
      "Number of n unique class: 4\n",
      "List of unique values: ['currency 1', 'currency 2', 'currency 4', 'currency 3']\n",
      "Unique values count:\n"
     ]
    },
    {
     "data": {
      "image/png": "[encoded data removed]",
      "text/plain": [
       "<Figure size 300x300 with 1 Axes>"
      ]
     },
     "metadata": {},
     "output_type": "display_data"
    },
    {
     "name": "stdout",
     "output_type": "stream",
     "text": [
      "Column name: CREDIT_TYPE\n",
      "Number of NaN values: 0\n",
      "Number of n unique class: 15\n",
      "List of unique values: ['Consumer credit', 'Credit card', 'Mortgage', 'Car loan', 'Microloan', 'Loan for working capital replenishment', 'Loan for business development', 'Real estate loan', 'Unknown type of loan', 'Another type of loan', 'Cash loan (non-earmarked)', 'Loan for the purchase of equipment', 'Mobile operator loan', 'Interbank credit', 'Loan for purchase of shares (margin lending)']\n",
      "Unique values count:\n"
     ]
    },
    {
     "data": {
      "image/png": "[encoded data removed]",
      "text/plain": [
       "<Figure size 300x300 with 1 Axes>"
      ]
     },
     "metadata": {},
     "output_type": "display_data"
    }
   ],
   "source": [
    "for col in ('CREDIT_ACTIVE', 'CREDIT_CURRENCY', 'CREDIT_TYPE'):\n",
    "    explore_nominal_column(df_bereau, col_name=col, list_col_name_nominal=[col])"
   ]
  },
  {
   "cell_type": "markdown",
   "metadata": {},
   "source": [
    "#### <u>Numeric column exploration</u>"
   ]
  },
  {
   "cell_type": "markdown",
   "metadata": {},
   "source": [
    "##### <b>Insight 1:</b>\n",
    "\n",
    "Some records in credit bereau dataset are out-of-date or have a weird value in <code>'DAYS_CREDIT_UPDATE'</code>\n",
    "\n",
    "<u>Appoach</u>:\n",
    " - Filter out value > 0 in <code>'DAYS_CREDIT_UPDATE'</code> column\n",
    " - Filter out out-to-date records in <code>'DAYS_CREDIT_UPDATE'</code> column"
   ]
  },
  {
   "cell_type": "code",
   "execution_count": 124,
   "metadata": {},
   "outputs": [
    {
     "name": "stdout",
     "output_type": "stream",
     "text": [
      "Column name: DAYS_CREDIT_UPDATE\n",
      "Number of NaN values: 0\n",
      "Statistics:\n",
      "  - Mean: -593.7483197663986\n",
      "  - Standard Deviasion: 720.7473115011627\n",
      "  - Minimum: -41947.0\n",
      "  - Q1: -908.0\n",
      "  - Median: -395.0\n",
      "  - Q3: -33.0\n",
      "  - Max: 372.0\n",
      "Distribution:\n"
     ]
    },
    {
     "data": {
      "image/png": "[encoded data removed]",
      "text/plain": [
       "<Figure size 600x300 with 2 Axes>"
      ]
     },
     "metadata": {},
     "output_type": "display_data"
    }
   ],
   "source": [
    "explore_numeric_column(df_bereau, col_name='DAYS_CREDIT_UPDATE', list_col_name_numeric=['DAYS_CREDIT_UPDATE'])"
   ]
  },
  {
   "cell_type": "markdown",
   "metadata": {},
   "source": [
    "##### <b>Insight 2:</b>\n",
    "\n",
    "There are some outliers in column <code>'CREDIT_DAY_OVERDUE'</code> that appears to be expired credit bureau\n",
    "\n",
    "<u>Appoach</u>: clean those expired credit bureau"
   ]
  },
  {
   "cell_type": "code",
   "execution_count": 126,
   "metadata": {},
   "outputs": [
    {
     "name": "stdout",
     "output_type": "stream",
     "text": [
      "Column name: CREDIT_DAY_OVERDUE\n",
      "Number of NaN values: 0\n",
      "Statistics:\n",
      "  - Mean: 0.8181665645165425\n",
      "  - Standard Deviasion: 36.54442800616701\n",
      "  - Minimum: 0.0\n",
      "  - Q1: 0.0\n",
      "  - Median: 0.0\n",
      "  - Q3: 0.0\n",
      "  - Max: 2792.0\n",
      "Distribution:\n"
     ]
    },
    {
     "data": {
      "image/png": "[encoded data removed]",
      "text/plain": [
       "<Figure size 600x300 with 2 Axes>"
      ]
     },
     "metadata": {},
     "output_type": "display_data"
    }
   ],
   "source": [
    "explore_numeric_column(df_bereau, col_name='CREDIT_DAY_OVERDUE', list_col_name_numeric=['CREDIT_DAY_OVERDUE'])"
   ]
  },
  {
   "cell_type": "code",
   "execution_count": 143,
   "metadata": {},
   "outputs": [
    {
     "data": {
      "image/png": "[encoded data removed]",
      "text/plain": [
       "<Figure size 300x300 with 1 Axes>"
      ]
     },
     "metadata": {},
     "output_type": "display_data"
    }
   ],
   "source": [
    "n_days_overdue = 90\n",
    "\n",
    "fig, ax = plt.subplots(figsize=(3, 3))\n",
    "df_bereau.loc[df_bereau.CREDIT_DAY_OVERDUE > n_days_overdue].boxplot(column='DAYS_CREDIT_ENDDATE', ax=ax)\n",
    "plt.show()\n",
    "fig.clf()"
   ]
  },
  {
   "cell_type": "markdown",
   "metadata": {},
   "source": [
    "##### <b>Insight 3:</b>\n",
    "\n",
    "There are some outliers in column <code>'DAYS_CREDIT_ENDDATE'</code>\n",
    "\n",
    "<u>Appoach</u>:\n",
    " - Remove rows which are 'Active' status but have <code>'DAYS_CREDIT_ENDDATE'</code> < 0\n",
    " - Remove rows which are 'Closed' status but have <code>'DAYS_CREDIT_ENDDATE'</code> > 0\n",
    " - Don't use those positive outlier values from 'Credit card' loan type"
   ]
  },
  {
   "cell_type": "code",
   "execution_count": 144,
   "metadata": {},
   "outputs": [
    {
     "name": "stdout",
     "output_type": "stream",
     "text": [
      "Column name: DAYS_CREDIT_ENDDATE\n",
      "Number of NaN values: 105553\n",
      "Statistics:\n",
      "  - Mean: 510.51736230309615\n",
      "  - Standard Deviasion: 4994.219837125882\n",
      "  - Minimum: -42060.0\n",
      "  - Q1: -1138.0\n",
      "  - Median: -330.0\n",
      "  - Q3: 474.0\n",
      "  - Max: 31199.0\n",
      "Distribution:\n"
     ]
    },
    {
     "data": {
      "image/png": "[encoded data removed]",
      "text/plain": [
       "<Figure size 600x300 with 2 Axes>"
      ]
     },
     "metadata": {},
     "output_type": "display_data"
    }
   ],
   "source": [
    "explore_numeric_column(df_bereau, col_name='DAYS_CREDIT_ENDDATE', list_col_name_numeric=['DAYS_CREDIT_ENDDATE'])"
   ]
  },
  {
   "cell_type": "code",
   "execution_count": 147,
   "metadata": {},
   "outputs": [
    {
     "data": {
      "text/plain": [
       "count    558111.000000\n",
       "mean       2547.215375\n",
       "std        7006.454056\n",
       "min      -42056.000000\n",
       "25%         173.000000\n",
       "50%         678.000000\n",
       "75%        1289.000000\n",
       "max       31199.000000\n",
       "Name: DAYS_CREDIT_ENDDATE, dtype: float64"
      ]
     },
     "execution_count": 147,
     "metadata": {},
     "output_type": "execute_result"
    }
   ],
   "source": [
    "df_bereau.loc[df_bereau['CREDIT_ACTIVE'] == 'Active', 'DAYS_CREDIT_ENDDATE'].describe()"
   ]
  },
  {
   "cell_type": "code",
   "execution_count": 148,
   "metadata": {},
   "outputs": [
    {
     "data": {
      "text/plain": [
       "count    1.046843e+06\n",
       "mean    -5.709404e+02\n",
       "std      2.963936e+03\n",
       "min     -4.206000e+04\n",
       "25%     -1.485000e+03\n",
       "50%     -8.060000e+02\n",
       "75%     -2.760000e+02\n",
       "max      3.119800e+04\n",
       "Name: DAYS_CREDIT_ENDDATE, dtype: float64"
      ]
     },
     "execution_count": 148,
     "metadata": {},
     "output_type": "execute_result"
    }
   ],
   "source": [
    "df_bereau.loc[df_bereau['CREDIT_ACTIVE'] == 'Closed', 'DAYS_CREDIT_ENDDATE'].describe()"
   ]
  },
  {
   "cell_type": "code",
   "execution_count": 153,
   "metadata": {},
   "outputs": [
    {
     "data": {
      "image/png": "[encoded data removed]",
      "text/plain": [
       "<Figure size 400x300 with 1 Axes>"
      ]
     },
     "metadata": {},
     "output_type": "display_data"
    }
   ],
   "source": [
    "fig, ax = plt.subplots(figsize=(4, 3))\n",
    "df_bereau['col_groupby'] = np.where(df_bereau.CREDIT_TYPE.eq('Credit card'), 'Credit card', 'Other')\n",
    "df_bereau.loc[df_bereau.CREDIT_ACTIVE == 'Active'].groupby('col_groupby')['DAYS_CREDIT_ENDDATE'].hist(alpha=0.7, ax=ax, legend=True)\n",
    "plt.show()\n",
    "fig.clf()\n",
    "\n",
    "del df_bereau['col_groupby']"
   ]
  },
  {
   "cell_type": "markdown",
   "metadata": {},
   "source": [
    "##### <b>Insight 4:</b>\n",
    "\n",
    "There are some outliers in column <code>['DAYS_ENDDATE_FACT', 'AMT_CREDIT_MAX_OVERDUE']</code>\n",
    "\n",
    "<u>Appoach</u>: remove outliers in column"
   ]
  },
  {
   "cell_type": "code",
   "execution_count": 154,
   "metadata": {},
   "outputs": [
    {
     "name": "stdout",
     "output_type": "stream",
     "text": [
      "Column name: DAYS_ENDDATE_FACT\n",
      "Number of NaN values: 633653\n",
      "Statistics:\n",
      "  - Mean: -1017.43714806862\n",
      "  - Standard Deviasion: 714.0106263423945\n",
      "  - Minimum: -42023.0\n",
      "  - Q1: -1489.0\n",
      "  - Median: -897.0\n",
      "  - Q3: -425.0\n",
      "  - Max: 0.0\n",
      "Distribution:\n"
     ]
    },
    {
     "data": {
      "image/png": "[encoded data removed]",
      "text/plain": [
       "<Figure size 600x300 with 2 Axes>"
      ]
     },
     "metadata": {},
     "output_type": "display_data"
    }
   ],
   "source": [
    "explore_numeric_column(df_bereau, col_name='DAYS_ENDDATE_FACT', list_col_name_numeric=['DAYS_ENDDATE_FACT'])"
   ]
  },
  {
   "cell_type": "markdown",
   "metadata": {},
   "source": [
    "#### <u>Feature engineering on Credit Bereau</u>\n",
    "- Has credit bureau record?\n",
    "- Count number of active loans\n",
    "- Latest application on previous loan\n",
    "- Count number of loan past due (keep both sources)\n",
    "- Is previous loan past due ('Closed' status)\n",
    "- Is active loan past due ('Active' status)\n",
    "- Maximum of <code>DAYS_CREDIT_ENDDATE</code> for non 'Credit card' loans\n",
    "- Minimum of <code>DAYS_ENDDATE_FACT</code> for 'Closed' loans\n",
    "- Sum amount of <code>AMT_CREDIT_SUM_DEBT</code>"
   ]
  },
  {
   "cell_type": "markdown",
   "metadata": {},
   "source": [
    "### Data exploration in Bureau Balance data"
   ]
  },
  {
   "cell_type": "markdown",
   "metadata": {},
   "source": [
    "##### <u>Initial inspection on dataset</u>"
   ]
  },
  {
   "cell_type": "code",
   "execution_count": 158,
   "metadata": {},
   "outputs": [
    {
     "data": {
      "text/html": [
       "<div>\n",
       "<style scoped>\n",
       "    .dataframe tbody tr th:only-of-type {\n",
       "        vertical-align: middle;\n",
       "    }\n",
       "\n",
       "    .dataframe tbody tr th {\n",
       "        vertical-align: top;\n",
       "    }\n",
       "\n",
       "    .dataframe thead th {\n",
       "        text-align: right;\n",
       "    }\n",
       "</style>\n",
       "<table border=\"1\" class=\"dataframe\">\n",
       "  <thead>\n",
       "    <tr style=\"text-align: right;\">\n",
       "      <th></th>\n",
       "      <th>SK_ID_BUREAU</th>\n",
       "      <th>MONTHS_BALANCE</th>\n",
       "      <th>STATUS</th>\n",
       "    </tr>\n",
       "  </thead>\n",
       "  <tbody>\n",
       "    <tr>\n",
       "      <th>0</th>\n",
       "      <td>5715448</td>\n",
       "      <td>0</td>\n",
       "      <td>C</td>\n",
       "    </tr>\n",
       "    <tr>\n",
       "      <th>1</th>\n",
       "      <td>5715448</td>\n",
       "      <td>-1</td>\n",
       "      <td>C</td>\n",
       "    </tr>\n",
       "    <tr>\n",
       "      <th>2</th>\n",
       "      <td>5715448</td>\n",
       "      <td>-2</td>\n",
       "      <td>C</td>\n",
       "    </tr>\n",
       "  </tbody>\n",
       "</table>\n",
       "</div>"
      ],
      "text/plain": [
       "   SK_ID_BUREAU  MONTHS_BALANCE STATUS\n",
       "0       5715448               0      C\n",
       "1       5715448              -1      C\n",
       "2       5715448              -2      C"
      ]
     },
     "execution_count": 158,
     "metadata": {},
     "output_type": "execute_result"
    }
   ],
   "source": [
    "df_bereau_balance.head(3)"
   ]
  },
  {
   "cell_type": "code",
   "execution_count": 159,
   "metadata": {},
   "outputs": [
    {
     "name": "stdout",
     "output_type": "stream",
     "text": [
      "Number of rows: 27299925\n",
      "Number of columns: 3\n",
      "Number of NaN columns: 0\n",
      "Col dtypes: [dtype('int64') dtype('O')]\n"
     ]
    }
   ],
   "source": [
    "explore_initial_data(df_bereau_balance)"
   ]
  },
  {
   "cell_type": "markdown",
   "metadata": {},
   "source": [
    "##### <u>Data inconsistencies on previous Bereau dataset</u>"
   ]
  },
  {
   "cell_type": "markdown",
   "metadata": {},
   "source": [
    "##### <b>Insight 1:</b>\n",
    "\n",
    "There are some inconsistensies on credit bureau status between Bureau dataset and Bureau Balance dataset\n",
    "\n",
    "<u>Appoach</u>:\n",
    "- cross-reference latest status on Bureau data (C / A)\n",
    "- determine overdue status directly from Bereau Balance dataset"
   ]
  },
  {
   "cell_type": "code",
   "execution_count": null,
   "metadata": {},
   "outputs": [
    {
     "data": {
      "text/html": [
       "<div>\n",
       "<style scoped>\n",
       "    .dataframe tbody tr th:only-of-type {\n",
       "        vertical-align: middle;\n",
       "    }\n",
       "\n",
       "    .dataframe tbody tr th {\n",
       "        vertical-align: top;\n",
       "    }\n",
       "\n",
       "    .dataframe thead th {\n",
       "        text-align: right;\n",
       "    }\n",
       "</style>\n",
       "<table border=\"1\" class=\"dataframe\">\n",
       "  <thead>\n",
       "    <tr style=\"text-align: right;\">\n",
       "      <th></th>\n",
       "      <th>SK_ID_CURR</th>\n",
       "      <th>SK_ID_BUREAU</th>\n",
       "      <th>CREDIT_ACTIVE</th>\n",
       "      <th>CREDIT_CURRENCY</th>\n",
       "      <th>DAYS_CREDIT</th>\n",
       "      <th>CREDIT_DAY_OVERDUE</th>\n",
       "      <th>DAYS_CREDIT_ENDDATE</th>\n",
       "      <th>DAYS_ENDDATE_FACT</th>\n",
       "      <th>AMT_CREDIT_MAX_OVERDUE</th>\n",
       "      <th>CNT_CREDIT_PROLONG</th>\n",
       "      <th>AMT_CREDIT_SUM</th>\n",
       "      <th>AMT_CREDIT_SUM_DEBT</th>\n",
       "      <th>AMT_CREDIT_SUM_LIMIT</th>\n",
       "      <th>AMT_CREDIT_SUM_OVERDUE</th>\n",
       "      <th>CREDIT_TYPE</th>\n",
       "      <th>DAYS_CREDIT_UPDATE</th>\n",
       "      <th>AMT_ANNUITY</th>\n",
       "    </tr>\n",
       "  </thead>\n",
       "  <tbody>\n",
       "    <tr>\n",
       "      <th>768</th>\n",
       "      <td>380361</td>\n",
       "      <td>5715448</td>\n",
       "      <td>Active</td>\n",
       "      <td>currency 1</td>\n",
       "      <td>-820</td>\n",
       "      <td>0</td>\n",
       "      <td>31069.0</td>\n",
       "      <td>NaN</td>\n",
       "      <td>NaN</td>\n",
       "      <td>0</td>\n",
       "      <td>67500.0</td>\n",
       "      <td>0.0</td>\n",
       "      <td>67500.0</td>\n",
       "      <td>0.0</td>\n",
       "      <td>Credit card</td>\n",
       "      <td>-183</td>\n",
       "      <td>0.0</td>\n",
       "    </tr>\n",
       "  </tbody>\n",
       "</table>\n",
       "</div>"
      ],
      "text/plain": [
       "     SK_ID_CURR  SK_ID_BUREAU CREDIT_ACTIVE CREDIT_CURRENCY  DAYS_CREDIT  \\\n",
       "768      380361       5715448        Active      currency 1         -820   \n",
       "\n",
       "     CREDIT_DAY_OVERDUE  DAYS_CREDIT_ENDDATE  DAYS_ENDDATE_FACT  \\\n",
       "768                   0              31069.0                NaN   \n",
       "\n",
       "     AMT_CREDIT_MAX_OVERDUE  CNT_CREDIT_PROLONG  AMT_CREDIT_SUM  \\\n",
       "768                     NaN                   0         67500.0   \n",
       "\n",
       "     AMT_CREDIT_SUM_DEBT  AMT_CREDIT_SUM_LIMIT  AMT_CREDIT_SUM_OVERDUE  \\\n",
       "768                  0.0               67500.0                     0.0   \n",
       "\n",
       "     CREDIT_TYPE  DAYS_CREDIT_UPDATE  AMT_ANNUITY  \n",
       "768  Credit card                -183          0.0  "
      ]
     },
     "metadata": {},
     "output_type": "display_data"
    }
   ],
   "source": [
    "df_bereau.loc[df_bereau.SK_ID_BUREAU == 5715448]"
   ]
  },
  {
   "cell_type": "code",
   "execution_count": 163,
   "metadata": {},
   "outputs": [
    {
     "data": {
      "text/html": [
       "<div>\n",
       "<style scoped>\n",
       "    .dataframe tbody tr th:only-of-type {\n",
       "        vertical-align: middle;\n",
       "    }\n",
       "\n",
       "    .dataframe tbody tr th {\n",
       "        vertical-align: top;\n",
       "    }\n",
       "\n",
       "    .dataframe thead th {\n",
       "        text-align: right;\n",
       "    }\n",
       "</style>\n",
       "<table border=\"1\" class=\"dataframe\">\n",
       "  <thead>\n",
       "    <tr style=\"text-align: right;\">\n",
       "      <th></th>\n",
       "      <th>SK_ID_BUREAU</th>\n",
       "      <th>MONTHS_BALANCE</th>\n",
       "      <th>STATUS</th>\n",
       "    </tr>\n",
       "  </thead>\n",
       "  <tbody>\n",
       "    <tr>\n",
       "      <th>0</th>\n",
       "      <td>5715448</td>\n",
       "      <td>0</td>\n",
       "      <td>C</td>\n",
       "    </tr>\n",
       "    <tr>\n",
       "      <th>1</th>\n",
       "      <td>5715448</td>\n",
       "      <td>-1</td>\n",
       "      <td>C</td>\n",
       "    </tr>\n",
       "    <tr>\n",
       "      <th>2</th>\n",
       "      <td>5715448</td>\n",
       "      <td>-2</td>\n",
       "      <td>C</td>\n",
       "    </tr>\n",
       "    <tr>\n",
       "      <th>3</th>\n",
       "      <td>5715448</td>\n",
       "      <td>-3</td>\n",
       "      <td>C</td>\n",
       "    </tr>\n",
       "  </tbody>\n",
       "</table>\n",
       "</div>"
      ],
      "text/plain": [
       "   SK_ID_BUREAU  MONTHS_BALANCE STATUS\n",
       "0       5715448               0      C\n",
       "1       5715448              -1      C\n",
       "2       5715448              -2      C\n",
       "3       5715448              -3      C"
      ]
     },
     "execution_count": 163,
     "metadata": {},
     "output_type": "execute_result"
    }
   ],
   "source": [
    "df_bereau_balance.loc[df_bereau_balance.SK_ID_BUREAU == 5715448].head(4)"
   ]
  },
  {
   "cell_type": "code",
   "execution_count": 160,
   "metadata": {},
   "outputs": [
    {
     "name": "stdout",
     "output_type": "stream",
     "text": [
      "Column name: STATUS\n",
      "Number of NaN values: 0\n",
      "Number of n unique class: 8\n",
      "List of unique values: ['C', '0', 'X', '1', '2', '3', '5', '4']\n",
      "Unique values count:\n"
     ]
    },
    {
     "data": {
      "image/png": "[encoded data removed]",
      "text/plain": [
       "<Figure size 300x300 with 1 Axes>"
      ]
     },
     "metadata": {},
     "output_type": "display_data"
    }
   ],
   "source": [
    "explore_nominal_column(df_bereau_balance, col_name='STATUS', list_col_name_nominal=['STATUS'])"
   ]
  },
  {
   "cell_type": "markdown",
   "metadata": {},
   "source": [
    "### Data exploration in Previous Application data"
   ]
  },
  {
   "cell_type": "code",
   "execution_count": null,
   "metadata": {},
   "outputs": [],
   "source": [
    "list_col_name_ids = ['SK_ID_PREV', 'SK_ID_CURR']\n",
    "list_col_name_str = df_previous_application.select_dtypes(include='object').columns.tolist() + ['NFLAG_LAST_APPL_IN_DAY', 'NFLAG_INSURED_ON_APPROVAL']\n",
    "list_col_name_numeric = [col for col in df_previous_application.columns if col not in [*list_col_name_ids, *list_col_name_str]]"
   ]
  },
  {
   "cell_type": "markdown",
   "metadata": {},
   "source": [
    "#### <u>Initial inspection on dataset</u>"
   ]
  },
  {
   "cell_type": "code",
   "execution_count": 150,
   "metadata": {},
   "outputs": [
    {
     "data": {
      "text/html": [
       "<div>\n",
       "<style scoped>\n",
       "    .dataframe tbody tr th:only-of-type {\n",
       "        vertical-align: middle;\n",
       "    }\n",
       "\n",
       "    .dataframe tbody tr th {\n",
       "        vertical-align: top;\n",
       "    }\n",
       "\n",
       "    .dataframe thead th {\n",
       "        text-align: right;\n",
       "    }\n",
       "</style>\n",
       "<table border=\"1\" class=\"dataframe\">\n",
       "  <thead>\n",
       "    <tr style=\"text-align: right;\">\n",
       "      <th></th>\n",
       "      <th>SK_ID_PREV</th>\n",
       "      <th>SK_ID_CURR</th>\n",
       "      <th>NAME_CONTRACT_TYPE</th>\n",
       "      <th>AMT_ANNUITY</th>\n",
       "      <th>AMT_APPLICATION</th>\n",
       "      <th>AMT_CREDIT</th>\n",
       "      <th>AMT_DOWN_PAYMENT</th>\n",
       "      <th>AMT_GOODS_PRICE</th>\n",
       "      <th>WEEKDAY_APPR_PROCESS_START</th>\n",
       "      <th>HOUR_APPR_PROCESS_START</th>\n",
       "      <th>...</th>\n",
       "      <th>NAME_SELLER_INDUSTRY</th>\n",
       "      <th>CNT_PAYMENT</th>\n",
       "      <th>NAME_YIELD_GROUP</th>\n",
       "      <th>PRODUCT_COMBINATION</th>\n",
       "      <th>DAYS_FIRST_DRAWING</th>\n",
       "      <th>DAYS_FIRST_DUE</th>\n",
       "      <th>DAYS_LAST_DUE_1ST_VERSION</th>\n",
       "      <th>DAYS_LAST_DUE</th>\n",
       "      <th>DAYS_TERMINATION</th>\n",
       "      <th>NFLAG_INSURED_ON_APPROVAL</th>\n",
       "    </tr>\n",
       "  </thead>\n",
       "  <tbody>\n",
       "    <tr>\n",
       "      <th>0</th>\n",
       "      <td>2030495</td>\n",
       "      <td>271877</td>\n",
       "      <td>Consumer loans</td>\n",
       "      <td>1730.430</td>\n",
       "      <td>17145.0</td>\n",
       "      <td>17145.0</td>\n",
       "      <td>0.0</td>\n",
       "      <td>17145.0</td>\n",
       "      <td>SATURDAY</td>\n",
       "      <td>15</td>\n",
       "      <td>...</td>\n",
       "      <td>Connectivity</td>\n",
       "      <td>12.0</td>\n",
       "      <td>middle</td>\n",
       "      <td>POS mobile with interest</td>\n",
       "      <td>365243.0</td>\n",
       "      <td>-42.0</td>\n",
       "      <td>300.0</td>\n",
       "      <td>-42.0</td>\n",
       "      <td>-37.0</td>\n",
       "      <td>0.0</td>\n",
       "    </tr>\n",
       "    <tr>\n",
       "      <th>1</th>\n",
       "      <td>2802425</td>\n",
       "      <td>108129</td>\n",
       "      <td>Cash loans</td>\n",
       "      <td>25188.615</td>\n",
       "      <td>607500.0</td>\n",
       "      <td>679671.0</td>\n",
       "      <td>NaN</td>\n",
       "      <td>607500.0</td>\n",
       "      <td>THURSDAY</td>\n",
       "      <td>11</td>\n",
       "      <td>...</td>\n",
       "      <td>XNA</td>\n",
       "      <td>36.0</td>\n",
       "      <td>low_action</td>\n",
       "      <td>Cash X-Sell: low</td>\n",
       "      <td>365243.0</td>\n",
       "      <td>-134.0</td>\n",
       "      <td>916.0</td>\n",
       "      <td>365243.0</td>\n",
       "      <td>365243.0</td>\n",
       "      <td>1.0</td>\n",
       "    </tr>\n",
       "    <tr>\n",
       "      <th>2</th>\n",
       "      <td>2523466</td>\n",
       "      <td>122040</td>\n",
       "      <td>Cash loans</td>\n",
       "      <td>15060.735</td>\n",
       "      <td>112500.0</td>\n",
       "      <td>136444.5</td>\n",
       "      <td>NaN</td>\n",
       "      <td>112500.0</td>\n",
       "      <td>TUESDAY</td>\n",
       "      <td>11</td>\n",
       "      <td>...</td>\n",
       "      <td>XNA</td>\n",
       "      <td>12.0</td>\n",
       "      <td>high</td>\n",
       "      <td>Cash X-Sell: high</td>\n",
       "      <td>365243.0</td>\n",
       "      <td>-271.0</td>\n",
       "      <td>59.0</td>\n",
       "      <td>365243.0</td>\n",
       "      <td>365243.0</td>\n",
       "      <td>1.0</td>\n",
       "    </tr>\n",
       "  </tbody>\n",
       "</table>\n",
       "<p>3 rows × 37 columns</p>\n",
       "</div>"
      ],
      "text/plain": [
       "   SK_ID_PREV  SK_ID_CURR NAME_CONTRACT_TYPE  AMT_ANNUITY  AMT_APPLICATION  \\\n",
       "0     2030495      271877     Consumer loans     1730.430          17145.0   \n",
       "1     2802425      108129         Cash loans    25188.615         607500.0   \n",
       "2     2523466      122040         Cash loans    15060.735         112500.0   \n",
       "\n",
       "   AMT_CREDIT  AMT_DOWN_PAYMENT  AMT_GOODS_PRICE WEEKDAY_APPR_PROCESS_START  \\\n",
       "0     17145.0               0.0          17145.0                   SATURDAY   \n",
       "1    679671.0               NaN         607500.0                   THURSDAY   \n",
       "2    136444.5               NaN         112500.0                    TUESDAY   \n",
       "\n",
       "   HOUR_APPR_PROCESS_START  ... NAME_SELLER_INDUSTRY  CNT_PAYMENT  \\\n",
       "0                       15  ...         Connectivity         12.0   \n",
       "1                       11  ...                  XNA         36.0   \n",
       "2                       11  ...                  XNA         12.0   \n",
       "\n",
       "   NAME_YIELD_GROUP       PRODUCT_COMBINATION  DAYS_FIRST_DRAWING  \\\n",
       "0            middle  POS mobile with interest            365243.0   \n",
       "1        low_action          Cash X-Sell: low            365243.0   \n",
       "2              high         Cash X-Sell: high            365243.0   \n",
       "\n",
       "  DAYS_FIRST_DUE DAYS_LAST_DUE_1ST_VERSION  DAYS_LAST_DUE DAYS_TERMINATION  \\\n",
       "0          -42.0                     300.0          -42.0            -37.0   \n",
       "1         -134.0                     916.0       365243.0         365243.0   \n",
       "2         -271.0                      59.0       365243.0         365243.0   \n",
       "\n",
       "  NFLAG_INSURED_ON_APPROVAL  \n",
       "0                       0.0  \n",
       "1                       1.0  \n",
       "2                       1.0  \n",
       "\n",
       "[3 rows x 37 columns]"
      ]
     },
     "execution_count": 150,
     "metadata": {},
     "output_type": "execute_result"
    }
   ],
   "source": [
    "df_previous_application.head(3)"
   ]
  },
  {
   "cell_type": "code",
   "execution_count": 172,
   "metadata": {},
   "outputs": [
    {
     "data": {
      "text/html": [
       "<div>\n",
       "<style scoped>\n",
       "    .dataframe tbody tr th:only-of-type {\n",
       "        vertical-align: middle;\n",
       "    }\n",
       "\n",
       "    .dataframe tbody tr th {\n",
       "        vertical-align: top;\n",
       "    }\n",
       "\n",
       "    .dataframe thead th {\n",
       "        text-align: right;\n",
       "    }\n",
       "</style>\n",
       "<table border=\"1\" class=\"dataframe\">\n",
       "  <thead>\n",
       "    <tr style=\"text-align: right;\">\n",
       "      <th></th>\n",
       "      <th>SK_ID_PREV</th>\n",
       "      <th>SK_ID_CURR</th>\n",
       "      <th>NAME_CONTRACT_TYPE</th>\n",
       "      <th>AMT_ANNUITY</th>\n",
       "      <th>AMT_APPLICATION</th>\n",
       "      <th>AMT_CREDIT</th>\n",
       "      <th>AMT_DOWN_PAYMENT</th>\n",
       "      <th>AMT_GOODS_PRICE</th>\n",
       "      <th>WEEKDAY_APPR_PROCESS_START</th>\n",
       "      <th>HOUR_APPR_PROCESS_START</th>\n",
       "      <th>...</th>\n",
       "      <th>NAME_SELLER_INDUSTRY</th>\n",
       "      <th>CNT_PAYMENT</th>\n",
       "      <th>NAME_YIELD_GROUP</th>\n",
       "      <th>PRODUCT_COMBINATION</th>\n",
       "      <th>DAYS_FIRST_DRAWING</th>\n",
       "      <th>DAYS_FIRST_DUE</th>\n",
       "      <th>DAYS_LAST_DUE_1ST_VERSION</th>\n",
       "      <th>DAYS_LAST_DUE</th>\n",
       "      <th>DAYS_TERMINATION</th>\n",
       "      <th>NFLAG_INSURED_ON_APPROVAL</th>\n",
       "    </tr>\n",
       "  </thead>\n",
       "  <tbody>\n",
       "    <tr>\n",
       "      <th>229247</th>\n",
       "      <td>2513435</td>\n",
       "      <td>162297</td>\n",
       "      <td>Consumer loans</td>\n",
       "      <td>9069.840</td>\n",
       "      <td>82332.9</td>\n",
       "      <td>75645.0</td>\n",
       "      <td>13500.9</td>\n",
       "      <td>82332.9</td>\n",
       "      <td>THURSDAY</td>\n",
       "      <td>10</td>\n",
       "      <td>...</td>\n",
       "      <td>Consumer electronics</td>\n",
       "      <td>12.0</td>\n",
       "      <td>high</td>\n",
       "      <td>POS household with interest</td>\n",
       "      <td>365243.0</td>\n",
       "      <td>-2136.0</td>\n",
       "      <td>-1806.0</td>\n",
       "      <td>-1806.0</td>\n",
       "      <td>-1800.0</td>\n",
       "      <td>0.0</td>\n",
       "    </tr>\n",
       "    <tr>\n",
       "      <th>1092526</th>\n",
       "      <td>1155486</td>\n",
       "      <td>162297</td>\n",
       "      <td>Consumer loans</td>\n",
       "      <td>5257.215</td>\n",
       "      <td>33957.0</td>\n",
       "      <td>26194.5</td>\n",
       "      <td>9000.0</td>\n",
       "      <td>33957.0</td>\n",
       "      <td>TUESDAY</td>\n",
       "      <td>16</td>\n",
       "      <td>...</td>\n",
       "      <td>Connectivity</td>\n",
       "      <td>6.0</td>\n",
       "      <td>low_normal</td>\n",
       "      <td>POS mobile with interest</td>\n",
       "      <td>365243.0</td>\n",
       "      <td>-2831.0</td>\n",
       "      <td>-2681.0</td>\n",
       "      <td>-2681.0</td>\n",
       "      <td>-2633.0</td>\n",
       "      <td>1.0</td>\n",
       "    </tr>\n",
       "  </tbody>\n",
       "</table>\n",
       "<p>2 rows × 37 columns</p>\n",
       "</div>"
      ],
      "text/plain": [
       "         SK_ID_PREV  SK_ID_CURR NAME_CONTRACT_TYPE  AMT_ANNUITY  \\\n",
       "229247      2513435      162297     Consumer loans     9069.840   \n",
       "1092526     1155486      162297     Consumer loans     5257.215   \n",
       "\n",
       "         AMT_APPLICATION  AMT_CREDIT  AMT_DOWN_PAYMENT  AMT_GOODS_PRICE  \\\n",
       "229247           82332.9     75645.0           13500.9          82332.9   \n",
       "1092526          33957.0     26194.5            9000.0          33957.0   \n",
       "\n",
       "        WEEKDAY_APPR_PROCESS_START  HOUR_APPR_PROCESS_START  ...  \\\n",
       "229247                    THURSDAY                       10  ...   \n",
       "1092526                    TUESDAY                       16  ...   \n",
       "\n",
       "         NAME_SELLER_INDUSTRY  CNT_PAYMENT  NAME_YIELD_GROUP  \\\n",
       "229247   Consumer electronics         12.0              high   \n",
       "1092526          Connectivity          6.0        low_normal   \n",
       "\n",
       "                 PRODUCT_COMBINATION  DAYS_FIRST_DRAWING DAYS_FIRST_DUE  \\\n",
       "229247   POS household with interest            365243.0        -2136.0   \n",
       "1092526     POS mobile with interest            365243.0        -2831.0   \n",
       "\n",
       "        DAYS_LAST_DUE_1ST_VERSION  DAYS_LAST_DUE DAYS_TERMINATION  \\\n",
       "229247                    -1806.0        -1806.0          -1800.0   \n",
       "1092526                   -2681.0        -2681.0          -2633.0   \n",
       "\n",
       "        NFLAG_INSURED_ON_APPROVAL  \n",
       "229247                        0.0  \n",
       "1092526                       1.0  \n",
       "\n",
       "[2 rows x 37 columns]"
      ]
     },
     "execution_count": 172,
     "metadata": {},
     "output_type": "execute_result"
    }
   ],
   "source": [
    "df_previous_application.loc[df_previous_application[col_name_id] == 162297]"
   ]
  },
  {
   "cell_type": "code",
   "execution_count": 153,
   "metadata": {},
   "outputs": [
    {
     "name": "stdout",
     "output_type": "stream",
     "text": [
      "Number of rows: 1670214\n",
      "Number of columns: 37\n",
      "Number of NaN columns: 16\n",
      "Col dtypes: [dtype('int64') dtype('O') dtype('float64')]\n"
     ]
    }
   ],
   "source": [
    "explore_initial_data(df_previous_application)"
   ]
  },
  {
   "cell_type": "code",
   "execution_count": 157,
   "metadata": {},
   "outputs": [
    {
     "data": {
      "text/plain": [
       "AMT_ANNUITY                   372235\n",
       "AMT_CREDIT                         1\n",
       "AMT_DOWN_PAYMENT              895844\n",
       "AMT_GOODS_PRICE               385515\n",
       "RATE_DOWN_PAYMENT             895844\n",
       "RATE_INTEREST_PRIMARY        1664263\n",
       "RATE_INTEREST_PRIVILEGED     1664263\n",
       "NAME_TYPE_SUITE               820405\n",
       "CNT_PAYMENT                   372230\n",
       "PRODUCT_COMBINATION              346\n",
       "DAYS_FIRST_DRAWING            673065\n",
       "DAYS_FIRST_DUE                673065\n",
       "DAYS_LAST_DUE_1ST_VERSION     673065\n",
       "DAYS_LAST_DUE                 673065\n",
       "DAYS_TERMINATION              673065\n",
       "NFLAG_INSURED_ON_APPROVAL     673065\n",
       "dtype: int64"
      ]
     },
     "execution_count": 157,
     "metadata": {},
     "output_type": "execute_result"
    }
   ],
   "source": [
    "df_previous_application.isnull().sum()[df_previous_application.isnull().sum() > 0]"
   ]
  },
  {
   "cell_type": "markdown",
   "metadata": {},
   "source": [
    "Drop column : <code>['AMT_DOWN_PAYMENT', 'RATE_DOWN_PAYMENT', 'RATE_INTEREST_PRIMARY', 'RATE_INTEREST_PRIVILEGED', 'NAME_TYPE_SUITE']</code>"
   ]
  },
  {
   "cell_type": "code",
   "execution_count": 179,
   "metadata": {},
   "outputs": [
    {
     "data": {
      "text/plain": [
       "Series([], dtype: int64)"
      ]
     },
     "execution_count": 179,
     "metadata": {},
     "output_type": "execute_result"
    }
   ],
   "source": [
    "row_cnt = df_previous_application.groupby(list_col_name_ids).size()\n",
    "row_cnt[row_cnt > 1]"
   ]
  },
  {
   "cell_type": "code",
   "execution_count": 156,
   "metadata": {},
   "outputs": [
    {
     "name": "stdout",
     "output_type": "stream",
     "text": [
      "Number of missing records when join: 16454\n"
     ]
    }
   ],
   "source": [
    "check_data_completeness_id(df_application_train, df_previous_application, col_name_ref='SK_ID_PREV', col_name_id=col_name_id)"
   ]
  },
  {
   "cell_type": "markdown",
   "metadata": {},
   "source": [
    "#### <u>Nominal column exploration</u>"
   ]
  },
  {
   "cell_type": "markdown",
   "metadata": {},
   "source": [
    "##### <b>Insight 1:</b>\n",
    "\n",
    "Some nominal columns contain categories that only have few amount of records\n",
    "\n",
    "<u>Appoach</u>:\n",
    " - Only keep ('Consumer loans', 'Cash loans', 'Revolving loans') category in column <code>'NAME_CONTRACT_TYPE'</code>\n",
    " - Drop column <code>['NAME_PAYMENT_TYPE']</code>"
   ]
  },
  {
   "cell_type": "code",
   "execution_count": 173,
   "metadata": {},
   "outputs": [
    {
     "name": "stdout",
     "output_type": "stream",
     "text": [
      "Column name: NAME_CONTRACT_TYPE\n",
      "Number of NaN values: 0\n",
      "Number of n unique class: 4\n",
      "List of unique values: ['Consumer loans', 'Cash loans', 'Revolving loans', 'XNA']\n",
      "Unique values count:\n"
     ]
    },
    {
     "data": {
      "image/png": "[encoded data removed]",
      "text/plain": [
       "<Figure size 300x300 with 1 Axes>"
      ]
     },
     "metadata": {},
     "output_type": "display_data"
    }
   ],
   "source": [
    "explore_nominal_column(df_previous_application, col_name='NAME_CONTRACT_TYPE', list_col_name_nominal=list_col_name_str)"
   ]
  },
  {
   "cell_type": "markdown",
   "metadata": {},
   "source": [
    "##### <b>Insight 2:</b>\n",
    "\n",
    "Some nominal columns are not related to the problem\n",
    "\n",
    "<u>Appoach</u>: drop those columns\n",
    "\n",
    "<em>Those columns are including: <code>['WEEKDAY_APPR_PROCESS_START', 'HOUR_APPR_PROCESS_START', 'NAME_CASH_LOAN_PURPOSE', 'NAME_TYPE_SUITE', 'NAME_GOODS_CATEGORY', 'NAME_PORTFOLIO', 'NAME_PRODUCT_TYPE', 'CHANNEL_TYPE', 'NAME_SELLER_INDUSTRY', 'NAME_YIELD_GROUP', 'PRODUCT_COMBINATION']</code></em>"
   ]
  },
  {
   "cell_type": "markdown",
   "metadata": {},
   "source": [
    "##### <b>Insight 3:</b>\n",
    "\n",
    "According to data dict, there could be multiple applications for one single contact\n",
    "\n",
    "<u>Appoach</u>: Flag 'Y' on column <code>'FLAG_LAST_APPL_PER_CONTRACT'</code>"
   ]
  },
  {
   "cell_type": "code",
   "execution_count": 183,
   "metadata": {},
   "outputs": [
    {
     "data": {
      "text/plain": [
       "FLAG_LAST_APPL_PER_CONTRACT\n",
       "Y    1661739\n",
       "N       8475\n",
       "Name: count, dtype: int64"
      ]
     },
     "execution_count": 183,
     "metadata": {},
     "output_type": "execute_result"
    }
   ],
   "source": [
    "df_previous_application['FLAG_LAST_APPL_PER_CONTRACT'].value_counts()"
   ]
  },
  {
   "cell_type": "markdown",
   "metadata": {},
   "source": [
    "#### <u>Numeric column exploration</u>"
   ]
  },
  {
   "cell_type": "markdown",
   "metadata": {},
   "source": [
    "##### <b>Insight 1:</b>\n",
    "\n",
    "Some \"DAYS_*\" columns contains weird values\n",
    "\n",
    "<u>Appoach</u>: replace those weird values (value > 0) as NaN\n",
    "\n",
    "<em>Those columns are including: <code>['DAYS_FIRST_DRAWING', 'DAYS_FIRST_DUE', 'DAYS_LAST_DUE_1ST_VERSION', DAYS_LAST_DUE', 'DAYS_TERMINATION']</code></em>"
   ]
  },
  {
   "cell_type": "code",
   "execution_count": 186,
   "metadata": {},
   "outputs": [
    {
     "name": "stdout",
     "output_type": "stream",
     "text": [
      "Column name: DAYS_LAST_DUE\n",
      "Number of NaN values: 673065\n",
      "Statistics:\n",
      "  - Mean: 76582.40306413585\n",
      "  - Standard Deviasion: 149647.4151231759\n",
      "  - Minimum: -2889.0\n",
      "  - Q1: -1314.0\n",
      "  - Median: -537.0\n",
      "  - Q3: -74.0\n",
      "  - Max: 365243.0\n",
      "Distribution:\n"
     ]
    },
    {
     "data": {
      "image/png": "[encoded data removed]",
      "text/plain": [
       "<Figure size 600x300 with 2 Axes>"
      ]
     },
     "metadata": {},
     "output_type": "display_data"
    }
   ],
   "source": [
    "explore_numeric_column(df_previous_application, col_name='DAYS_LAST_DUE', list_col_name_numeric=['DAYS_LAST_DUE'])"
   ]
  },
  {
   "cell_type": "code",
   "execution_count": null,
   "metadata": {},
   "outputs": [
    {
     "data": {
      "text/plain": [
       "DAYS_LAST_DUE\n",
       "365243.0    211221\n",
       "Name: count, dtype: int64"
      ]
     },
     "metadata": {},
     "output_type": "display_data"
    }
   ],
   "source": [
    "df_previous_application.loc[df_previous_application['DAYS_LAST_DUE'] > 0, 'DAYS_LAST_DUE'].value_counts()"
   ]
  },
  {
   "cell_type": "markdown",
   "metadata": {},
   "source": [
    "##### <b>Insight 2:</b>\n",
    "\n",
    "Some numerical columns are not related to the problem\n",
    "\n",
    "<u>Appoach</u>: drop those columns\n",
    "\n",
    "<em>Those columns are including: <code>['AMT_ANNUITY', 'AMT_APPLICATION', 'AMT_DOWN_PAYMENT', 'AMT_GOODS_PRICE', 'HOUR_APPR_PROCESS_START', 'RATE_DOWN_PAYMENT', 'RATE_INTEREST_PRIMARY', 'RATE_INTEREST_PRIVILEGED', 'SELLERPLACE_AREA', 'CNT_PAYMENT', 'DAYS_FIRST_DRAWING', 'DAYS_FIRST_DUE', 'DAYS_LAST_DUE_1ST_VERSION', 'DAYS_TERMINATION']</code></em>"
   ]
  },
  {
   "cell_type": "markdown",
   "metadata": {},
   "source": [
    "#### <u>Feature engineering on Previous Application</u>\n",
    "- Is there any previous application or not\n",
    "- Is all loans are approved\n",
    "- Is there any loan rejected within the specified period\n",
    "- Is there any loan cancelled within the specified period\n",
    "- Last loan approval time if any (column <code>'DAYS_DECISION'</code>)\n",
    "- Latest loan application / Last loan approval\n",
    "- Latest client type (column <code>'NAME_CLIENT_TYPE'</code>)\n",
    "- Maximum loan amount that was previously approved (column <code>'AMT_CREDIT'</code>)\n",
    "- Current application amount / MAX(<code>'AMT_CREDIT'</code>)\n",
    "- Minimun of days last due (column <code>'DAYS_LAST_DUE'</code>)\n",
    "- Did client requested insurance during the latest application or not (column <code>'NFLAG_INSURED_ON_APPROVAL'</code>)"
   ]
  },
  {
   "cell_type": "markdown",
   "metadata": {},
   "source": [
    "# PART II - Data Preprocessing"
   ]
  },
  {
   "cell_type": "code",
   "execution_count": 273,
   "metadata": {},
   "outputs": [],
   "source": [
    "def filter_high_freq_category(df_app: pd.DataFrame, list_col_nominal: List[str], threshold: Union[int, float] = 0.03) -> Dict[str, List[str]]:\n",
    "    dict_nominal_category = dict()\n",
    "    \n",
    "    if type(threshold) == float:\n",
    "        n_min_records = round(df_app.shape[0] * threshold, 0)\n",
    "    else:\n",
    "        n_min_records = threshold\n",
    "\n",
    "    for col in list_col_nominal:\n",
    "        value_counts = df_app[col].value_counts(dropna=True)\n",
    "        filter_high_freq = value_counts.gt(n_min_records)\n",
    "        list_category_high_freq = value_counts[filter_high_freq].index.tolist()\n",
    "        dict_nominal_category[col] = list_category_high_freq\n",
    "\n",
    "    return dict_nominal_category\n",
    "\n",
    "def handle_outliers(df: pd.DataFrame, col_name: str, drop_outlier: bool = False) -> pd.DataFrame:\n",
    "    df = df.copy()\n",
    "    arr_col_stats = df[col_name].describe()\n",
    "\n",
    "    q1 = arr_col_stats.loc['25%']\n",
    "    q3 = arr_col_stats.loc['75%']\n",
    "    iqr = q3 - q1\n",
    "    lower = q1 - 1.5 * iqr\n",
    "    upper = q3 + 1.5 * iqr\n",
    "\n",
    "    if drop_outlier:\n",
    "        filter_non_outlier = df[col_name].between(lower, upper)\n",
    "        df = df.loc[filter_non_outlier, :]\n",
    "    else:\n",
    "        df.loc[df[col_name] < lower, col_name] = lower\n",
    "        df.loc[df[col_name] > upper, col_name] = upper\n",
    "    \n",
    "    return df\n",
    "\n",
    "def update_remove_cols(list_col: List[str], list_remove_col: List[str]) -> List[str]:\n",
    "    for col in list_remove_col:\n",
    "        if col in list_col:\n",
    "            list_col.remove(col)\n",
    "\n",
    "def preprocess_application_data(df_app: pd.DataFrame, list_col_name_numeric: List[str], list_col_name_nominal: List[str]):\n",
    "    list_col_to_drop = [\n",
    "        'HOUSETYPE_MODE', 'WALLSMATERIAL_MODE', 'FONDKAPREMONT_MODE', 'EMERGENCYSTATE_MODE', \n",
    "        'FLAG_MOBIL', 'FLAG_CONT_MOBILE', 'FLAG_DOCUMENT_2', 'FLAG_DOCUMENT_4', 'FLAG_DOCUMENT_5', 'FLAG_DOCUMENT_7', \n",
    "        'FLAG_DOCUMENT_9', 'FLAG_DOCUMENT_10', 'FLAG_DOCUMENT_11', 'FLAG_DOCUMENT_12', 'FLAG_DOCUMENT_13', 'FLAG_DOCUMENT_14', \n",
    "        'FLAG_DOCUMENT_15', 'FLAG_DOCUMENT_16', 'FLAG_DOCUMENT_17', 'FLAG_DOCUMENT_18', 'FLAG_DOCUMENT_19', 'FLAG_DOCUMENT_20', 'FLAG_DOCUMENT_21',\n",
    "        'AMT_REQ_CREDIT_BUREAU_HOUR', 'AMT_REQ_CREDIT_BUREAU_DAY', 'AMT_REQ_CREDIT_BUREAU_WEEK'\n",
    "    ]\n",
    "    list_col_contain_outlier = [\n",
    "        'AMT_INCOME_TOTAL', 'AMT_CREDIT', 'AMT_ANNUITY', 'AMT_GOODS_PRICE', 'YEARS_BEGINEXPLUATATION_AVG', \n",
    "        'ENTRANCES_AVG', 'YEARS_BUILD_MODE', 'OBS_60_CNT_SOCIAL_CIRCLE', 'OBS_30_CNT_SOCIAL_CIRCLE'\n",
    "    ]\n",
    "    \n",
    "    df = df_app.copy()\n",
    "\n",
    "    df.drop(columns=list_col_to_drop, inplace=True)\n",
    "    update_remove_cols(list_col=list_col_name_numeric, list_remove_col=list_col_to_drop)\n",
    "    update_remove_cols(list_col=list_col_name_nominal, list_remove_col=list_col_to_drop)\n",
    "\n",
    "    dict_category = filter_high_freq_category(df, list_col_nominal=list_col_name_nominal, threshold=.02)\n",
    "    \n",
    "    # convert dtypes\n",
    "    for col in list_col_name_nominal:\n",
    "        categories_ = dict_category[col]\n",
    "        if len(categories_) == 1:\n",
    "            df.drop(columns=[col], inplace=True)\n",
    "            update_remove_cols(list_col=list_col_name_nominal, list_remove_col=[col, ])\n",
    "        else:\n",
    "            order_ = col in ('REGION_RATING_CLIENT', 'REGION_RATING_CLIENT_W_CITY')\n",
    "            df[col] = pd.Categorical(df[col], categories=categories_, ordered=order_)\n",
    "    \n",
    "    # remove outlier\n",
    "    for col in list_col_contain_outlier:\n",
    "        bool_remove_outliers_ = col == 'AMT_INCOME_TOTAL'\n",
    "        handle_outliers(df, col_name=col, drop_outlier=bool_remove_outliers_)\n",
    "\n",
    "    # remove weird values in DAYS_EMPLOYED col\n",
    "    df['DAYS_EMPLOYED'] = np.minimum(0, df['DAYS_EMPLOYED'])\n",
    "\n",
    "    return df\n",
    "\n",
    "def remove_correlate_features():\n",
    "    pass\n",
    "\n",
    "def fit_scaler(df, list_col_name_numeric):\n",
    "    pass\n",
    "\n",
    "def fit_dummy():\n",
    "    pass\n",
    "\n",
    "def fit_sklearn_pipeline():\n",
    "    pass\n",
    "\n",
    "def preprocess_df_bureau_ref(df_bal: pd.DataFrame) -> pd.DataFrame:\n",
    "    # feature engineering: is_dpd\n",
    "    list_status_dpd = ('1', '2', '3', '4', '5')\n",
    "    df_bal['is_month_dpd'] = df_bal['STATUS'].isin(list_status_dpd)\n",
    "\n",
    "    # aggregation : latest info\n",
    "    idx_latest = df_bal.groupby('SK_ID_BUREAU')['MONTHS_BALANCE'].idxmax()\n",
    "    df_latest_info = df_bal.loc[idx_latest, ['SK_ID_BUREAU', 'MONTHS_BALANCE', 'STATUS']]\n",
    "    df_latest_info['status_ref'] = np.where(df_latest_info['STATUS'].eq('C'), 'Closed',\n",
    "                                            np.where(df_latest_info['STATUS'].eq('X'), 'Unknown', 'Active'))\n",
    "    df_latest_info.drop(columns='STATUS', inplace=True)\n",
    "    \n",
    "    # aggregation: historical dpd for each bureau\n",
    "    df_historical_dpd = df_bal.groupby('SK_ID_BUREAU')['is_month_dpd'].sum().reset_index()\n",
    "    df_bureau_crossref = df_latest_info.merge(df_historical_dpd, left_on='SK_ID_BUREAU', right_on='SK_ID_BUREAU', how='inner')\n",
    "    df_bureau_crossref = df_bureau_crossref.rename(columns={'is_month_dpd': 'count_month_dpd', 'MONTHS_BALANCE': 'month_latest_update'})\n",
    "\n",
    "    return df_bureau_crossref\n",
    "\n",
    "def preprocess_df_bereau(df_id_ref: pd.DataFrame, df_bereau: pd.DataFrame, df_bereau_ref: pd.DataFrame) -> pd.DataFrame:\n",
    "    n_years = 6\n",
    "    n_days_minimum = -365 * n_years\n",
    "    \n",
    "    # scope relevant information (by ID)\n",
    "    df_bereau = df_id_ref.merge(df_bereau, left_on='SK_ID_CURR', right_on='SK_ID_CURR', how='inner')\n",
    "\n",
    "    filter_currency = df_bereau['CREDIT_CURRENCY'].eq('currency 1')\n",
    "    filter_incorrect_update_date = df_bereau['DAYS_CREDIT_UPDATE'] <= 0\n",
    "    filter_new_update_info = df_bereau['DAYS_CREDIT_UPDATE'] > n_days_minimum\n",
    "\n",
    "    df_bereau = df_bereau.loc[filter_currency & filter_incorrect_update_date & filter_new_update_info, :]\n",
    "\n",
    "    # cross-reference\n",
    "    df_bereau = df_bereau.merge(df_bereau_ref, left_on='SK_ID_BUREAU', right_on='SK_ID_BUREAU', how='left')\n",
    "    df_bereau['credit_status'] = np.where(df_bereau['status_ref'].notna(), df_bereau['status_ref'], df_bereau['CREDIT_ACTIVE'])\n",
    "\n",
    "    # filter out incorrect DAYS_CREDIT_ENDDATE\n",
    "    filter_out_incorrect_active_enddate = (df_bereau['credit_status'] == 'Active') & (df_bereau['DAYS_CREDIT_ENDDATE'] < 0)\n",
    "    filter_out_incorrect_closed_enddate = (df_bereau['credit_status'] == 'Closed') & (df_bereau['DAYS_CREDIT_ENDDATE'] >= 0)\n",
    "    filter_other_status = df_bereau['credit_status'].isin(('Active', 'Closed'))\n",
    "    df_bereau = df_bereau.loc[filter_out_incorrect_active_enddate | filter_out_incorrect_closed_enddate | filter_other_status, :]\n",
    "\n",
    "    return df_bereau\n",
    "\n",
    "def merge_bereau_feature(df_id_ref: pd.DataFrame, df_bereau_prep: pd.DataFrame) -> pd.DataFrame:\n",
    "    list_bereau_col_select = ['SK_ID_CURR', 'SK_ID_BUREAU', 'credit_status', 'DAYS_CREDIT_UPDATE', \n",
    "                              'CREDIT_DAY_OVERDUE', 'count_month_dpd', 'DAYS_CREDIT_ENDDATE', 'DAYS_ENDDATE_FACT', 'AMT_CREDIT_SUM_DEBT']\n",
    "    df_bereau_selected = df_bereau_prep.loc[:, list_bereau_col_select]\n",
    "    df_bereau_history = df_id_ref.merge(df_bereau_selected, left_on='SK_ID_CURR', right_on='SK_ID_CURR', how='left')\n",
    "\n",
    "    # column generate\n",
    "    df_bereau_history['is_bereau_history'] = df_bereau_history['SK_ID_BUREAU'].notna()\n",
    "    df_bereau_history['is_past_due'] = df_bereau_history[['CREDIT_DAY_OVERDUE', 'count_month_dpd']].max(axis=1).gt(0)\n",
    "\n",
    "    filter_loan_active = df_bereau_history['credit_status'].eq('Active')\n",
    "    filter_loan_closed = df_bereau_history['credit_status'].eq('Closed')\n",
    "\n",
    "    # feature engineering\n",
    "    arr_feature_is_bereau_history = df_bereau_history.groupby('SK_ID_CURR')['is_bereau_history'].any()\n",
    "    df_feature_is_bereau_history = arr_feature_is_bereau_history.reset_index()\n",
    "\n",
    "    arr_feature_num_active_loan = df_bereau_history.loc[filter_loan_active].groupby('SK_ID_CURR').size()\n",
    "    df_feature_n_active_loan = arr_feature_num_active_loan.rename('cnt_active_loan').reset_index()\n",
    "\n",
    "    arr_feature_latest_application_day = df_bereau_history.groupby('SK_ID_CURR')['DAYS_CREDIT_UPDATE'].min()\n",
    "    df_feature_latest_application_day = arr_feature_latest_application_day.rename('last_days_update').reset_index()\n",
    "\n",
    "    arr_feature_cnt_active_loan_past_due = df_bereau_history.loc[filter_loan_active].groupby('SK_ID_CURR')['is_past_due'].sum()\n",
    "    df_feature_cnt_active_loan_past_due = arr_feature_cnt_active_loan_past_due.rename('cnt_active_loan_past_due').reset_index()\n",
    "\n",
    "    arr_feature_cnt_closed_loan_past_due = df_bereau_history.loc[filter_loan_closed].groupby('SK_ID_CURR')['is_past_due'].sum()\n",
    "    df_feature_cnt_closed_loan_past_due = arr_feature_cnt_closed_loan_past_due.rename('cnt_closed_loan_past_due').reset_index()\n",
    "\n",
    "    arr_feature_total_credit_day_overdue = df_bereau_history.groupby('SK_ID_CURR')['CREDIT_DAY_OVERDUE'].sum()\n",
    "    df_feature_total_credit_day_overdue = arr_feature_total_credit_day_overdue.rename('total_credit_day_overdue').reset_index()\n",
    "\n",
    "    arr_feature_max_remaining_bereau_date = df_bereau_history.groupby('SK_ID_CURR')['DAYS_CREDIT_ENDDATE'].max()\n",
    "    df_feature_max_remaining_bereau_date = arr_feature_max_remaining_bereau_date.rename('max_days_credit_enddate').reset_index()\n",
    "    \n",
    "    arr_feature_min_enddate_closed_loan = df_bereau_history.loc[filter_loan_closed].groupby('SK_ID_CURR')['DAYS_ENDDATE_FACT'].min()\n",
    "    df_feature_min_enddate_closed_loan = arr_feature_min_enddate_closed_loan.rename('min_days_enddate_fact').reset_index()\n",
    "\n",
    "    arr_feature_total_credit_debt = df_bereau_history.groupby('SK_ID_CURR')['AMT_CREDIT_SUM_DEBT'].sum()\n",
    "    df_feature_total_credit_debt = arr_feature_total_credit_debt.rename('total_amt_credit_sum_debt').reset_index()\n",
    "\n",
    "    # merge all features together\n",
    "    list_dfs = [df_id_ref, df_feature_is_bereau_history, df_feature_n_active_loan, df_feature_latest_application_day, df_feature_cnt_active_loan_past_due,\n",
    "                df_feature_cnt_closed_loan_past_due, df_feature_total_credit_day_overdue, df_feature_max_remaining_bereau_date, df_feature_min_enddate_closed_loan,\n",
    "                df_feature_total_credit_debt]\n",
    "    df_features = reduce(lambda left, right: pd.merge(left, right, left_on='SK_ID_CURR', right_on='SK_ID_CURR', how='left'), list_dfs)\n",
    "\n",
    "    df_features['cnt_active_loan'] = df_features['cnt_active_loan'].fillna(0)\n",
    "    df_features['cnt_active_loan_past_due'] = df_features['cnt_active_loan_past_due'].fillna(0)\n",
    "    df_features['cnt_closed_loan_past_due'] = df_features['cnt_closed_loan_past_due'].fillna(0)\n",
    "    \n",
    "    return df_features\n",
    "\n",
    "def preprocess_df_prev_application_data(df_prev_app: pd.DataFrame) -> pd.DataFrame:\n",
    "    # filter df scope\n",
    "    list_category_contract_type = ('Consumer loans', 'Cash loans', 'Revolving loans')\n",
    "    filter_name_contract_type = df_prev_app['NAME_CONTRACT_TYPE'].isin(list_category_contract_type)\n",
    "    filter_flag_last_appl = df_prev_app['FLAG_LAST_APPL_PER_CONTRACT'].eq('Y')\n",
    "\n",
    "    df_prev_app = df_prev_app.loc[filter_name_contract_type & filter_flag_last_appl]\n",
    "\n",
    "    # fixing date error\n",
    "    for col in ['DAYS_FIRST_DRAWING', 'DAYS_FIRST_DUE', 'DAYS_LAST_DUE_1ST_VERSION', 'DAYS_LAST_DUE', 'DAYS_TERMINATION']:\n",
    "        filter_weird_days = df_prev_app[col].gt(0)\n",
    "        df_prev_app.loc[filter_weird_days, col] = np.nan\n",
    "\n",
    "    return df_prev_app\n",
    "\n",
    "def merge_prev_app_features(df_id_ref: pd.DataFrame, df_prev_app_prep: pd.DataFrame) -> pd.DataFrame:\n",
    "    df_prev_app_history = df_id_ref.merge(df_prev_app_prep, left_on='SK_ID_CURR', right_on='SK_ID_CURR', how='left')\n",
    "\n",
    "    df_1 = df_prev_app_history.groupby('SK_ID_CURR')['SK_ID_PREV'].max().notna().reset_index().rename(columns={'SK_ID_PREV': 'is_prev_app_history'})\n",
    "    \n",
    "    filter_status_approved = df_prev_app_history['NAME_CONTRACT_STATUS'].eq('Approved')\n",
    "    filter_status_refused = df_prev_app_history['NAME_CONTRACT_STATUS'].eq('Refused')\n",
    "    filter_status_canceled = df_prev_app_history['NAME_CONTRACT_STATUS'].eq('Canceled')\n",
    "\n",
    "    df_n_prev_app = df_prev_app_history.groupby('SK_ID_CURR').size().rename('cnt_prev_appl').reset_index()\n",
    "    df_n_appr_prev_app = df_prev_app_history.loc[filter_status_approved].groupby('SK_ID_CURR').size().rename('cnt_appr_prev_appl').reset_index()\n",
    "    df_2 = df_n_prev_app.merge(df_n_appr_prev_app, left_on='SK_ID_CURR', right_on='SK_ID_CURR', how='left')\n",
    "    df_2['cnt_appr_prev_appl'] = df_2['cnt_appr_prev_appl'].fillna(0)\n",
    "    df_2['is_all_loan_approved'] = df_2['cnt_prev_appl'].eq(df_2['cnt_appr_prev_appl'])\n",
    "    df_2.drop(columns=['cnt_appr_prev_appl', 'cnt_prev_appl'], inplace=True)\n",
    "\n",
    "    day_cutoff = df_prev_app_history['DAYS_DECISION'].describe().loc['75%']\n",
    "    filter_day_cutoff = df_prev_app_history['DAYS_DECISION'].gt(day_cutoff)\n",
    "    \n",
    "    df_id_refuse = df_prev_app_history.loc[filter_status_refused & filter_day_cutoff, ['SK_ID_CURR', 'SK_ID_PREV']].drop_duplicates(subset='SK_ID_CURR')\n",
    "    df_3 = df_id_ref.merge(df_id_refuse, left_on='SK_ID_CURR', right_on='SK_ID_CURR', how='left')\n",
    "    df_3['is_loan_refused_within_curr_period'] = df_3['SK_ID_PREV'].notna()\n",
    "    df_3.drop(columns='SK_ID_PREV', inplace=True)\n",
    "\n",
    "    df_id_canceled = df_prev_app_history.loc[filter_status_canceled & filter_day_cutoff, ['SK_ID_CURR', 'SK_ID_PREV']].drop_duplicates(subset='SK_ID_CURR')\n",
    "    df_4 = df_id_ref.merge(df_id_canceled, left_on='SK_ID_CURR', right_on='SK_ID_CURR', how='left')\n",
    "    df_4['is_loan_canceled_within_curr_period'] = df_4['SK_ID_PREV'].notna()\n",
    "    df_4.drop(columns='SK_ID_PREV', inplace=True)\n",
    "\n",
    "    df_latest_info = df_prev_app_history.groupby('SK_ID_CURR')['DAYS_DECISION'].max().reset_index().rename(columns={'DAYS_DECISION': 'latest_information_day'})\n",
    "    df_latest_loan_approval = df_prev_app_history.loc[filter_status_approved].groupby('SK_ID_CURR')['DAYS_DECISION'].max().reset_index().rename(columns={'DAYS_DECISION': 'latest_loan_approval'})\n",
    "    df_5 = df_latest_info.merge(df_latest_loan_approval, left_on='SK_ID_CURR', right_on='SK_ID_CURR', how='left')\n",
    "    df_5['ratio_last_appl_to_last_appr'] = df_5['latest_information_day'] / df_5['latest_loan_approval']\n",
    "    df_5.drop(columns='latest_information_day', inplace=True)\n",
    "\n",
    "    df_6 = df_prev_app_history.groupby('SK_ID_CURR')['AMT_CREDIT'].max().reset_index().rename(columns={'AMT_CREDIT': 'max_amt_credit'})\n",
    "\n",
    "    df_7 = df_prev_app_history.groupby('SK_ID_CURR')['DAYS_LAST_DUE'].min().reset_index().rename(columns={'DAYS_LAST_DUE': 'min_days_last_due'})\n",
    "\n",
    "    df_8 = df_prev_app_history.groupby('SK_ID_CURR')['NFLAG_INSURED_ON_APPROVAL'].any().reset_index().rename(columns={'NFLAG_INSURED_ON_APPROVAL': 'is_req_ins_on_appr'})\n",
    "    \n",
    "    list_dfs = [df_1, df_2, df_3, df_4, df_5, df_6, df_7, df_8]\n",
    "    df_features = reduce(lambda left, right: pd.merge(left, right, left_on='SK_ID_CURR', right_on='SK_ID_CURR', how='inner'), list_dfs)\n",
    "    \n",
    "    return df_features"
   ]
  },
  {
   "cell_type": "code",
   "execution_count": 24,
   "metadata": {},
   "outputs": [],
   "source": [
    "df_application_train = preprocess_application_data(df_application_train, list_col_name_numeric, list_col_name_nominal)"
   ]
  },
  {
   "cell_type": "code",
   "execution_count": 25,
   "metadata": {},
   "outputs": [],
   "source": [
    "df_bureau_bal_ref = preprocess_df_bureau_ref(df_bereau_balance)"
   ]
  },
  {
   "cell_type": "code",
   "execution_count": 68,
   "metadata": {},
   "outputs": [],
   "source": [
    "df_id_ref = df_application_train.loc[:, ['SK_ID_CURR']]\n",
    "df_bereau = preprocess_df_bereau(df_id_ref, df_bereau, df_bureau_bal_ref)"
   ]
  },
  {
   "cell_type": "code",
   "execution_count": 149,
   "metadata": {},
   "outputs": [],
   "source": [
    "df_bereau_features = merge_bereau_feature(df_id_ref, df_bereau)"
   ]
  },
  {
   "cell_type": "code",
   "execution_count": 193,
   "metadata": {},
   "outputs": [],
   "source": [
    "df_previous_application_prep = preprocess_df_prev_application_data(df_previous_application)"
   ]
  },
  {
   "cell_type": "code",
   "execution_count": 276,
   "metadata": {},
   "outputs": [],
   "source": [
    "df_prev_appl_features = merge_prev_app_features(df_id_ref, df_previous_application_prep)"
   ]
  },
  {
   "cell_type": "markdown",
   "metadata": {},
   "source": [
    "## Playground (delete later)"
   ]
  },
  {
   "cell_type": "code",
   "execution_count": null,
   "metadata": {},
   "outputs": [],
   "source": []
  }
 ],
 "metadata": {
  "kernelspec": {
   "display_name": "r_atm_poc",
   "language": "python",
   "name": "python3"
  },
  "language_info": {
   "codemirror_mode": {
    "name": "ipython",
    "version": 3
   },
   "file_extension": ".py",
   "mimetype": "text/x-python",
   "name": "python",
   "nbconvert_exporter": "python",
   "pygments_lexer": "ipython3",
   "version": "3.9.18"
  }
 },
 "nbformat": 4,
 "nbformat_minor": 2
}

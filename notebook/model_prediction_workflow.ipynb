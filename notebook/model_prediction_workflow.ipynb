{
 "cells": [
  {
   "cell_type": "markdown",
   "metadata": {},
   "source": [
    "# Model Prediction Workflow"
   ]
  },
  {
   "cell_type": "markdown",
   "metadata": {},
   "source": []
  },
  {
   "cell_type": "code",
   "execution_count": 1,
   "metadata": {},
   "outputs": [],
   "source": [
    "import os\n",
    "dir_project_root = os.path.dirname(os.getcwd())"
   ]
  },
  {
   "cell_type": "code",
   "execution_count": 2,
   "metadata": {},
   "outputs": [
    {
     "name": "stderr",
     "output_type": "stream",
     "text": [
      "2024-02-08 02:24:10 - __main__ - INFO - main:287 - Start training pipeline\n",
      "2024-02-08 02:24:10 - __main__ - DEBUG - preprocess_step:65 - STEP PROCESSING\n",
      "2024-02-08 02:26:32 - __main__ - DEBUG - preprocess_step:114 - Training features shape --> (276759, 64), Training target shape --> (276759,)\n",
      "2024-02-08 02:26:32 - __main__ - DEBUG - preprocess_step:115 - Evaluation features shape --> (30752, 64), Evaluation target shape --> (30752,)\n",
      "2024-02-08 02:26:41 - __main__ - DEBUG - save_csv_file:153 - Csv file saved at c:\\Users\\11413929\\repos\\int_ass\\data\\production\\process_data\\train\\features_train_2024_02_08_02_26_32.csv\n",
      "2024-02-08 02:26:42 - __main__ - DEBUG - save_csv_file:153 - Csv file saved at c:\\Users\\11413929\\repos\\int_ass\\data\\production\\process_data\\test\\features_test_2024_02_08_02_26_32.csv\n",
      "2024-02-08 02:26:42 - __main__ - DEBUG - save_ndarray:189 - Numpy array file saved at c:\\Users\\11413929\\repos\\int_ass\\data\\production\\process_data\\train\\target_train_2024_02_08_02_26_32.npy\n",
      "2024-02-08 02:26:42 - __main__ - DEBUG - save_ndarray:189 - Numpy array file saved at c:\\Users\\11413929\\repos\\int_ass\\data\\production\\process_data\\test\\target_test_2024_02_08_02_26_32.npy\n",
      "2024-02-08 02:26:42 - __main__ - DEBUG - save_list:164 - List file saved at c:\\Users\\11413929\\repos\\int_ass\\data\\production\\artifacts\\list_col_numeric_2024_02_08_02_26_32.sav\n",
      "2024-02-08 02:26:42 - __main__ - DEBUG - save_list:164 - List file saved at c:\\Users\\11413929\\repos\\int_ass\\data\\production\\artifacts\\list_col_nominal_2024_02_08_02_26_32.sav\n",
      "2024-02-08 02:26:42 - __main__ - DEBUG - save_list:164 - List file saved at c:\\Users\\11413929\\repos\\int_ass\\data\\production\\artifacts\\list_col_high_corr_2024_02_08_02_26_32.sav\n",
      "2024-02-08 02:26:42 - __main__ - DEBUG - save_list:164 - List file saved at c:\\Users\\11413929\\repos\\int_ass\\data\\production\\artifacts\\list_col_heavy_nan_2024_02_08_02_26_32.sav\n",
      "2024-02-08 02:26:42 - __main__ - DEBUG - save_dict:176 - Dict file saved at c:\\Users\\11413929\\repos\\int_ass\\data\\production\\artifacts\\dict_col_selected_cat_2024_02_08_02_26_32.json\n",
      "2024-02-08 02:26:42 - __main__ - DEBUG - model_training_step:169 - STEP TRAINING\n",
      "2024-02-08 02:26:44 - __main__ - DEBUG - load_csv_file:158 - Csv file loaded from c:\\Users\\11413929\\repos\\int_ass\\data\\production\\process_data\\train\\features_train_2024_02_08_02_26_32.csv\n",
      "2024-02-08 02:26:44 - __main__ - DEBUG - load_ndarray:195 - Numpy array file loaded from c:\\Users\\11413929\\repos\\int_ass\\data\\production\\process_data\\train\\target_train_2024_02_08_02_26_32.npy\n",
      "2024-02-08 02:26:44 - __main__ - DEBUG - load_dict:182 - Dict file loaded from c:\\Users\\11413929\\repos\\int_ass\\data\\production\\artifacts\\dict_col_selected_cat_2024_02_08_02_26_32.json\n",
      "2024-02-08 02:26:44 - __main__ - DEBUG - load_list:169 - List file loaded from c:\\Users\\11413929\\repos\\int_ass\\data\\production\\artifacts\\list_col_numeric_2024_02_08_02_26_32.sav\n",
      "2024-02-08 02:26:44 - __main__ - DEBUG - load_list:169 - List file loaded from c:\\Users\\11413929\\repos\\int_ass\\data\\production\\artifacts\\list_col_nominal_2024_02_08_02_26_32.sav\n",
      "2024-02-08 02:26:44 - __main__ - DEBUG - load_dict:182 - Dict file loaded from c:\\Users\\11413929\\repos\\int_ass\\config\\training\\hyper_param_config.json\n",
      "c:\\Users\\11413929\\AppData\\Local\\miniconda3\\envs\\r_atm_poc\\lib\\site-packages\\xgboost\\data.py:520: FutureWarning: is_sparse is deprecated and will be removed in a future version. Check `isinstance(dtype, pd.SparseDtype)` instead.\n",
      "  if is_sparse(data):\n",
      "2024-02-08 02:26:57 - __main__ - DEBUG - model_training_step:208 - Training AUC score = 0.7913\n",
      "2024-02-08 02:26:57 - __main__ - DEBUG - save_model:201 - Sklearn model obj saved at c:\\Users\\11413929\\repos\\int_ass\\model_pipeline\\model_pipeline_2024_02_08_02_26_32.sav\n",
      "2024-02-08 02:26:57 - __main__ - DEBUG - model_evaluation_step:230 - STEP EVALUATE\n",
      "2024-02-08 02:26:57 - __main__ - DEBUG - load_csv_file:158 - Csv file loaded from c:\\Users\\11413929\\repos\\int_ass\\data\\production\\process_data\\test\\features_test_2024_02_08_02_26_32.csv\n",
      "2024-02-08 02:26:57 - __main__ - DEBUG - load_ndarray:195 - Numpy array file loaded from c:\\Users\\11413929\\repos\\int_ass\\data\\production\\process_data\\test\\target_test_2024_02_08_02_26_32.npy\n",
      "2024-02-08 02:26:57 - __main__ - DEBUG - load_model:206 - Sklearn model obj loaded from c:\\Users\\11413929\\repos\\int_ass\\model_pipeline\\model_pipeline_2024_02_08_02_26_32.sav\n",
      "2024-02-08 02:26:57 - __main__ - DEBUG - load_list:169 - List file loaded from c:\\Users\\11413929\\repos\\int_ass\\data\\production\\artifacts\\list_col_nominal_2024_02_08_02_26_32.sav\n",
      "2024-02-08 02:26:57 - Training Version - INFO - model_evaluation_step:263 - Training version \"2024_02_08_02_26_32\", AUC score = 0.7583\n",
      "2024-02-08 02:26:57 - __main__ - DEBUG - model_evaluation_step:265 - Evaluation AUC score = 0.7583\n",
      "2024-02-08 02:26:57 - __main__ - DEBUG - model_evaluation_step:267 - Confusion Matrix : \n",
      "     [[19970  8299]\n",
      "      [  793  1690]]\n",
      "2024-02-08 02:26:57 - __main__ - DEBUG - model_evaluation_step:268 - Accuracy Score : 0.70\n",
      "2024-02-08 02:26:57 - __main__ - DEBUG - model_evaluation_step:269 - Precision Score : 0.17\n",
      "2024-02-08 02:26:57 - __main__ - DEBUG - model_evaluation_step:270 - Recall Score : 0.68\n",
      "2024-02-08 02:26:57 - __main__ - DEBUG - model_evaluation_step:271 - F1 Score : 0.27\n",
      "2024-02-08 02:26:57 - __main__ - DEBUG - inference_config:275 - WRITE CONFIG\n",
      "2024-02-08 02:26:57 - __main__ - DEBUG - save_dict:176 - Dict file saved at c:\\Users\\11413929\\repos\\int_ass\\config\\inference\\inference_config.json\n",
      "2024-02-08 02:26:57 - __main__ - INFO - main:301 - Completed training pipeline\n"
     ]
    }
   ],
   "source": [
    "%run {dir_project_root}\\pipeline_train.py"
   ]
  },
  {
   "cell_type": "code",
   "execution_count": 3,
   "metadata": {},
   "outputs": [
    {
     "name": "stderr",
     "output_type": "stream",
     "text": [
      "2024-02-08 02:27:50 - __main__ - INFO - main:153 - Start inference pipeline\n",
      "2024-02-08 02:27:50 - __main__ - INFO - main:153 - Start inference pipeline\n",
      "2024-02-08 02:27:50 - __main__ - DEBUG - load_dict:182 - Dict file loaded from c:\\Users\\11413929\\repos\\int_ass\\config\\inference\\inference_config.json\n",
      "2024-02-08 02:27:50 - __main__ - DEBUG - load_dict:182 - Dict file loaded from c:\\Users\\11413929\\repos\\int_ass\\config\\inference\\inference_config.json\n",
      "2024-02-08 02:27:50 - __main__ - DEBUG - preprocess_step:58 - STEP PROCESSING\n",
      "2024-02-08 02:27:50 - __main__ - DEBUG - preprocess_step:58 - STEP PROCESSING\n"
     ]
    },
    {
     "name": "stderr",
     "output_type": "stream",
     "text": [
      "2024-02-08 02:28:17 - __main__ - DEBUG - load_list:169 - List file loaded from c:\\Users\\11413929\\repos\\int_ass\\data\\production\\artifacts\\list_col_high_corr_2024_02_08_02_26_32.sav\n",
      "2024-02-08 02:28:17 - __main__ - DEBUG - load_list:169 - List file loaded from c:\\Users\\11413929\\repos\\int_ass\\data\\production\\artifacts\\list_col_high_corr_2024_02_08_02_26_32.sav\n",
      "2024-02-08 02:28:17 - __main__ - DEBUG - load_list:169 - List file loaded from c:\\Users\\11413929\\repos\\int_ass\\data\\production\\artifacts\\list_col_heavy_nan_2024_02_08_02_26_32.sav\n",
      "2024-02-08 02:28:17 - __main__ - DEBUG - load_list:169 - List file loaded from c:\\Users\\11413929\\repos\\int_ass\\data\\production\\artifacts\\list_col_heavy_nan_2024_02_08_02_26_32.sav\n",
      "2024-02-08 02:28:17 - __main__ - DEBUG - load_list:169 - List file loaded from c:\\Users\\11413929\\repos\\int_ass\\data\\production\\artifacts\\list_col_nominal_2024_02_08_02_26_32.sav\n",
      "2024-02-08 02:28:17 - __main__ - DEBUG - load_list:169 - List file loaded from c:\\Users\\11413929\\repos\\int_ass\\data\\production\\artifacts\\list_col_nominal_2024_02_08_02_26_32.sav\n",
      "2024-02-08 02:28:17 - __main__ - DEBUG - load_list:169 - List file loaded from c:\\Users\\11413929\\repos\\int_ass\\data\\production\\artifacts\\list_col_numeric_2024_02_08_02_26_32.sav\n",
      "2024-02-08 02:28:17 - __main__ - DEBUG - load_list:169 - List file loaded from c:\\Users\\11413929\\repos\\int_ass\\data\\production\\artifacts\\list_col_numeric_2024_02_08_02_26_32.sav\n",
      "2024-02-08 02:28:47 - __main__ - DEBUG - preprocess_step:100 - Inference features shape --> (48744, 64)\n",
      "2024-02-08 02:28:47 - __main__ - DEBUG - preprocess_step:100 - Inference features shape --> (48744, 64)\n",
      "2024-02-08 02:28:48 - __main__ - DEBUG - save_csv_file:153 - Csv file saved at c:\\Users\\11413929\\repos\\int_ass\\data\\production\\process_data\\inference\\features_predict_2024_02_08_02_28_47.csv\n",
      "2024-02-08 02:28:48 - __main__ - DEBUG - save_csv_file:153 - Csv file saved at c:\\Users\\11413929\\repos\\int_ass\\data\\production\\process_data\\inference\\features_predict_2024_02_08_02_28_47.csv\n",
      "2024-02-08 02:28:49 - __main__ - DEBUG - inference_step:121 - STEP TRAINING\n",
      "2024-02-08 02:28:49 - __main__ - DEBUG - inference_step:121 - STEP TRAINING\n",
      "2024-02-08 02:28:49 - __main__ - DEBUG - load_csv_file:158 - Csv file loaded from c:\\Users\\11413929\\repos\\int_ass\\data\\production\\process_data\\inference\\features_predict_2024_02_08_02_28_47.csv\n",
      "2024-02-08 02:28:49 - __main__ - DEBUG - load_csv_file:158 - Csv file loaded from c:\\Users\\11413929\\repos\\int_ass\\data\\production\\process_data\\inference\\features_predict_2024_02_08_02_28_47.csv\n",
      "2024-02-08 02:28:49 - __main__ - DEBUG - load_model:206 - Sklearn model obj loaded from c:\\Users\\11413929\\repos\\int_ass\\model_pipeline\\model_pipeline_2024_02_08_02_26_32.sav\n",
      "2024-02-08 02:28:49 - __main__ - DEBUG - load_model:206 - Sklearn model obj loaded from c:\\Users\\11413929\\repos\\int_ass\\model_pipeline\\model_pipeline_2024_02_08_02_26_32.sav\n",
      "2024-02-08 02:28:49 - __main__ - DEBUG - load_list:169 - List file loaded from c:\\Users\\11413929\\repos\\int_ass\\data\\production\\artifacts\\list_col_nominal_2024_02_08_02_26_32.sav\n",
      "2024-02-08 02:28:49 - __main__ - DEBUG - load_list:169 - List file loaded from c:\\Users\\11413929\\repos\\int_ass\\data\\production\\artifacts\\list_col_nominal_2024_02_08_02_26_32.sav\n",
      "2024-02-08 02:28:49 - __main__ - DEBUG - save_csv_file:153 - Csv file saved at c:\\Users\\11413929\\repos\\int_ass\\data\\production\\inference_output\\prediction_2024_02_08_02_28_47.csv\n",
      "2024-02-08 02:28:49 - __main__ - DEBUG - save_csv_file:153 - Csv file saved at c:\\Users\\11413929\\repos\\int_ass\\data\\production\\inference_output\\prediction_2024_02_08_02_28_47.csv\n",
      "2024-02-08 02:28:49 - __main__ - INFO - main:165 - Completed inference pipeline\n",
      "2024-02-08 02:28:49 - __main__ - INFO - main:165 - Completed inference pipeline\n"
     ]
    }
   ],
   "source": [
    "%run {dir_project_root}\\pipeline_inference.py"
   ]
  },
  {
   "cell_type": "code",
   "execution_count": null,
   "metadata": {},
   "outputs": [],
   "source": []
  }
 ],
 "metadata": {
  "kernelspec": {
   "display_name": "r_atm_poc",
   "language": "python",
   "name": "python3"
  },
  "language_info": {
   "codemirror_mode": {
    "name": "ipython",
    "version": 3
   },
   "file_extension": ".py",
   "mimetype": "text/x-python",
   "name": "python",
   "nbconvert_exporter": "python",
   "pygments_lexer": "ipython3",
   "version": "3.9.18"
  }
 },
 "nbformat": 4,
 "nbformat_minor": 2
}

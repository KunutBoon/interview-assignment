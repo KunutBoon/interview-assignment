{
 "cells": [
  {
   "cell_type": "code",
   "execution_count": 2,
   "metadata": {},
   "outputs": [],
   "source": [
    "import os\n",
    "\n",
    "dir_project_root = os.path.dirname(os.getcwd())"
   ]
  },
  {
   "cell_type": "code",
   "execution_count": 3,
   "metadata": {},
   "outputs": [],
   "source": [
    "import sys\n",
    "sys.path.append(dir_project_root)"
   ]
  },
  {
   "cell_type": "code",
   "execution_count": 12,
   "metadata": {},
   "outputs": [
    {
     "name": "stderr",
     "output_type": "stream",
     "text": [
      "2024-02-07 16:23:01 - __main__ - INFO - main:149 - Start training pipeline process\n",
      "2024-02-07 16:24:58 - __main__ - DEBUG - preprocess_step:98 - Training features shape --> (276759, 64), Training target shape --> (276759,)\n",
      "2024-02-07 16:24:58 - __main__ - DEBUG - preprocess_step:99 - Evaluation features shape --> (30752, 64), Evaluation target shape --> (30752,)\n",
      "2024-02-07 16:25:04 - __main__ - DEBUG - save_csv_file:128 - Csv file saved at c:\\Users\\11413929\\repos\\int_ass\\data\\production\\process_data\\train\\features_train_2024_02_07_16_24_58.csv\n",
      "2024-02-07 16:25:05 - __main__ - DEBUG - save_csv_file:128 - Csv file saved at c:\\Users\\11413929\\repos\\int_ass\\data\\production\\process_data\\test\\features_test_2024_02_07_16_24_58.csv\n",
      "2024-02-07 16:25:05 - __main__ - DEBUG - save_ndarray:143 - Numpy array file saved at c:\\Users\\11413929\\repos\\int_ass\\data\\production\\process_data\\train\\target_train_2024_02_07_16_24_58.npy\n",
      "2024-02-07 16:25:05 - __main__ - DEBUG - save_ndarray:143 - Numpy array file saved at c:\\Users\\11413929\\repos\\int_ass\\data\\production\\process_data\\test\\target_test_2024_02_07_16_24_58.npy\n",
      "2024-02-07 16:25:05 - __main__ - DEBUG - save_list:133 - List file saved at c:\\Users\\11413929\\repos\\int_ass\\data\\production\\artifacts\\list_col_numeric_2024_02_07_16_24_58.sav\n",
      "2024-02-07 16:25:05 - __main__ - DEBUG - save_list:133 - List file saved at c:\\Users\\11413929\\repos\\int_ass\\data\\production\\artifacts\\list_col_nominal_2024_02_07_16_24_58.sav\n",
      "2024-02-07 16:25:05 - __main__ - DEBUG - save_list:133 - List file saved at c:\\Users\\11413929\\repos\\int_ass\\data\\production\\artifacts\\list_col_high_corr_2024_02_07_16_24_58.sav\n",
      "2024-02-07 16:25:05 - __main__ - DEBUG - save_list:133 - List file saved at c:\\Users\\11413929\\repos\\int_ass\\data\\production\\artifacts\\list_col_heavy_nan_2024_02_07_16_24_58.sav\n"
     ]
    },
    {
     "ename": "TypeError",
     "evalue": "save_dict() got an unexpected keyword argument 'save_path'",
     "output_type": "error",
     "traceback": [
      "\u001b[1;31m---------------------------------------------------------------------------\u001b[0m",
      "\u001b[1;31mTypeError\u001b[0m                                 Traceback (most recent call last)",
      "File \u001b[1;32m~\\repos\\int_ass\\pipeline_train.py:156\u001b[0m\n\u001b[0;32m    152\u001b[0m     logger\u001b[38;5;241m.\u001b[39minfo(\u001b[38;5;124m\"\u001b[39m\u001b[38;5;124mCompleted training pipeline process\u001b[39m\u001b[38;5;124m\"\u001b[39m)\n\u001b[0;32m    155\u001b[0m \u001b[38;5;28;01mif\u001b[39;00m \u001b[38;5;18m__name__\u001b[39m \u001b[38;5;241m==\u001b[39m \u001b[38;5;124m\"\u001b[39m\u001b[38;5;124m__main__\u001b[39m\u001b[38;5;124m\"\u001b[39m:\n\u001b[1;32m--> 156\u001b[0m     \u001b[43mmain\u001b[49m\u001b[43m(\u001b[49m\u001b[43m)\u001b[49m\n",
      "File \u001b[1;32m~\\repos\\int_ass\\pipeline_train.py:151\u001b[0m, in \u001b[0;36mmain\u001b[1;34m()\u001b[0m\n\u001b[0;32m    149\u001b[0m logger\u001b[38;5;241m.\u001b[39minfo(\u001b[38;5;124m\"\u001b[39m\u001b[38;5;124mStart training pipeline process\u001b[39m\u001b[38;5;124m\"\u001b[39m)\n\u001b[0;32m    150\u001b[0m \u001b[38;5;66;03m# step 1.\u001b[39;00m\n\u001b[1;32m--> 151\u001b[0m \u001b[43mpreprocess_step\u001b[49m\u001b[43m(\u001b[49m\u001b[43m)\u001b[49m\n\u001b[0;32m    152\u001b[0m logger\u001b[38;5;241m.\u001b[39minfo(\u001b[38;5;124m\"\u001b[39m\u001b[38;5;124mCompleted training pipeline process\u001b[39m\u001b[38;5;124m\"\u001b[39m)\n",
      "File \u001b[1;32m~\\repos\\int_ass\\pipeline_train.py:145\u001b[0m, in \u001b[0;36mpreprocess_step\u001b[1;34m()\u001b[0m\n\u001b[0;32m    142\u001b[0m save_list(list_col_heavy_nan, save_path\u001b[38;5;241m=\u001b[39mpath_list_col_heavy_nan, logger\u001b[38;5;241m=\u001b[39mlogger)\n\u001b[0;32m    144\u001b[0m \u001b[38;5;66;03m## dict\u001b[39;00m\n\u001b[1;32m--> 145\u001b[0m \u001b[43msave_dict\u001b[49m\u001b[43m(\u001b[49m\u001b[43mdict_category\u001b[49m\u001b[43m,\u001b[49m\u001b[43m \u001b[49m\u001b[43msave_path\u001b[49m\u001b[38;5;241;43m=\u001b[39;49m\u001b[43mpath_dict_col_category\u001b[49m\u001b[43m,\u001b[49m\u001b[43m \u001b[49m\u001b[43mlogger\u001b[49m\u001b[38;5;241;43m=\u001b[39;49m\u001b[43mlogger\u001b[49m\u001b[43m)\u001b[49m\n",
      "\u001b[1;31mTypeError\u001b[0m: save_dict() got an unexpected keyword argument 'save_path'"
     ]
    }
   ],
   "source": [
    "%run {dir_project_root}\\pipeline_train.py"
   ]
  },
  {
   "cell_type": "code",
   "execution_count": null,
   "metadata": {},
   "outputs": [],
   "source": []
  }
 ],
 "metadata": {
  "kernelspec": {
   "display_name": "r_atm_poc",
   "language": "python",
   "name": "python3"
  },
  "language_info": {
   "codemirror_mode": {
    "name": "ipython",
    "version": 3
   },
   "file_extension": ".py",
   "mimetype": "text/x-python",
   "name": "python",
   "nbconvert_exporter": "python",
   "pygments_lexer": "ipython3",
   "version": "3.9.18"
  }
 },
 "nbformat": 4,
 "nbformat_minor": 2
}
